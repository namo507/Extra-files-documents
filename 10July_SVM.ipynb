{
 "cells": [
  {
   "cell_type": "code",
   "execution_count": 1,
   "metadata": {},
   "outputs": [],
   "source": [
    "# Reg\n",
    "# 1) Simple Linear Reg\n",
    "# 2) Mutiple Lienar Reg\n",
    "\n",
    "# Classification\n",
    "# 1) Logistic Reg\n",
    "# 2) KNN\n",
    "# 3) SVM\n",
    "# 4) Decision Tree Classfication\n",
    "# 5) Random Tree Classification"
   ]
  },
  {
   "cell_type": "markdown",
   "metadata": {},
   "source": [
    "### SVM (Support Vector Machines)\n",
    "\n",
    "1) A support vector machine (SVM) is a supervised machine learning algorithm.<br>\n",
    "2) A SVM takes in takes the data points (inputs) and outputs the hyperplane (which in two dimensions is simply a line) that best separates the data points.<br>\n",
    "3) The objective of the support vector machine algorithm is to find a hyperplane in an N-dimensional space(N — the number of independent features) that distinctly classifies the data points<br>\n",
    "4) It follows a technique called the kernel trick to transform the data and based on these transformations, it finds an optimal boundary between the possible outputs.<br>\n",
    "5) <b>SVM Objective</b> -The main idea is to identify the optimal separating hyperplane which maximizes the margin of the training data.<br>\n",
    "6) There can be multiple hyperplanes, but which one of them is the best separating hyperplane? It can be easily seen that line B is the one which best separates the two classes.\n",
    "\n",
    "<img src=\"svm1.png\" width=\"450\" height=\"400\">\n",
    "\n",
    "7) There can be multiple separating hyperplanes as well. How do we find the optimal one? Intuitively, if we select a hyperplane which is close to the data points of one class, then it might not generalize well(May not perform well on Testing data). So the aim is to choose the hyperplane which is as far as possible from the data points of each category.\n",
    "Therefore, maximizing the distance between the nearest points of each class and the hyperplane would result in an optimal separating hyperplane. This distance is called the margin.\n",
    "The goal of SVMs is to find the optimal hyperplane because it not only classifies the existing dataset but also helps predict the class of the unseen data. And the optimal hyperplane is the one which has the biggest margin.<br>\n",
    "\n",
    "8)\tTo separate the two classes of data points, there are many possible hyperplanes that could be chosen. SVMs objective is to find a plane that has the maximum margin, i.e. the maximum distance between data points of both classes. \n",
    "\n",
    "<img src=\"svm2.png\">\n",
    "<img src=\"svm3.png\">"
   ]
  },
  {
   "cell_type": "markdown",
   "metadata": {},
   "source": [
    "### Terminologies\n",
    "\n",
    "1)<b> Hyperplane </b>- Hyperplanes are decision boundaries that help classify the data points. Data points falling on either side of the hyperplane can be attributed to different classes. Also, the dimension of the hyperplane depends upon the number of features. If the number of input features is 2, then the hyperplane is just a line. If the number of input features is 3, then the hyperplane becomes a two-dimensional plane. It becomes difficult to imagine when the number of features exceeds 3.<br>\n",
    "\n",
    "2)<b> Support Vectors </b>- Support vectors are data points that are closest to the hyperplane and influence the position and orientation of the hyperplane. Using these support vectors, the model maximizes the margin of the classifier. These are the points that help us build our SVM.\n",
    "\n",
    "3)<b> Margin </b>– It is the distance between support vectors and the hyperplane.\n",
    "\n",
    "<img src=\"svm4.png\">"
   ]
  },
  {
   "cell_type": "markdown",
   "metadata": {},
   "source": [
    "### Kernel Trick\n",
    "<img src=\"svm8.png\">"
   ]
  },
  {
   "cell_type": "markdown",
   "metadata": {},
   "source": [
    "### SVM Parameters\n",
    "\n",
    "<b>1) Gamma</b> - The gamma parameter defines how far the influence of a single training example reaches, with low values meaning ‘far’ and high values meaning ‘close’.<br>\n",
    "If gamma is low => data points far away from the hyperplane data points affect the hyperplane<br>\n",
    "If gamma is high =>  data points close to the hyperplane data points affect the hyperplane<br>\n",
    "Commonly used gamma values are [0.0001,0.001,0.01,0.1,1,10,100]\n",
    "\n",
    "<b>2)  C </b> The C parameter tells the SVM optimization how much you want to avoid misclassifying each training example. Small values of C attribues to more misclassification and larger values of C attribues to less misclassification.\n",
    "Commonly used C values are [0.0001,0.001,0.01,0.1,1,10,100]\n",
    "\n",
    "<b>3) kernel</b> - SVM follows a technique called the kernel trick to transform the data and based on these transformations, it finds an optimal boundary between the possible outputs. Different kernel options are linear, rbf, poly\n",
    "\n",
    "<b>4) degree</b> - Defines degree of polynomial for 'poly' kernel\n",
    "\n"
   ]
  },
  {
   "cell_type": "markdown",
   "metadata": {},
   "source": [
    "### Kernel Types\n",
    "\n",
    "<b>1) Linear</b>\n",
    "<b>K(xi, xj) = xi.xj</b>\n",
    "Here, xi, xj represents the data you’re trying to classify.\n",
    "\n",
    "<b>2) Poly (Polynomial)</b>\n",
    "<b>K(xi, xj) = (xi.xj+1)^d</b>\n",
    "Here ‘.’ shows the dot product of both the values, and d denotes the degree of the polynomial.\n",
    "K(xi, xj) representing the decision boundary to separate the given classes. \n",
    "\n",
    "<b>3) Rbf (Radial Basis Function)</b>\n",
    "<b>K(xi, xj) = exp(-γ*||xi - xj||^2)\n",
    "The value of γ>0\n",
    "</b>\n"
   ]
  },
  {
   "cell_type": "markdown",
   "metadata": {},
   "source": [
    "### SVM Pros and Cons\n",
    "#### Pros\n",
    "\n",
    "1) SVM is an algorithm which is suitable for both linearly and nonlinearly separable data (using kernel trick).<br>\n",
    "2) SVM is very good when we have no idea about the data.<br>\n",
    "3) Kernel trick is what makes SVM unique.<br>\n",
    "\n",
    "#### Cons\n",
    "\n",
    "1) They are not suitable for larger datasets because the training time with SVMs can be high and much more computationally intensive.<br>\n",
    "2) Tuning parameters can be time consuming<br>\n"
   ]
  },
  {
   "cell_type": "code",
   "execution_count": null,
   "metadata": {},
   "outputs": [],
   "source": []
  },
  {
   "cell_type": "code",
   "execution_count": null,
   "metadata": {},
   "outputs": [],
   "source": []
  },
  {
   "cell_type": "code",
   "execution_count": null,
   "metadata": {},
   "outputs": [],
   "source": []
  },
  {
   "cell_type": "code",
   "execution_count": null,
   "metadata": {},
   "outputs": [],
   "source": []
  }
 ],
 "metadata": {
  "kernelspec": {
   "display_name": "Python 3",
   "language": "python",
   "name": "python3"
  },
  "language_info": {
   "codemirror_mode": {
    "name": "ipython",
    "version": 3
   },
   "file_extension": ".py",
   "mimetype": "text/x-python",
   "name": "python",
   "nbconvert_exporter": "python",
   "pygments_lexer": "ipython3",
   "version": "3.8.8"
  }
 },
 "nbformat": 4,
 "nbformat_minor": 2
}
