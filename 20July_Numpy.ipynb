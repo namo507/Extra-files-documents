{
 "cells": [
  {
   "cell_type": "markdown",
   "metadata": {},
   "source": [
    "### Numpy"
   ]
  },
  {
   "cell_type": "code",
   "execution_count": 2,
   "metadata": {},
   "outputs": [],
   "source": [
    "import numpy as np"
   ]
  },
  {
   "cell_type": "markdown",
   "metadata": {},
   "source": [
    "#### Numpy Arrays\n",
    "\n",
    "1) Numpy array are like list but in numy arrays all the elements have the same data type.<br>\n",
    "2) Numpy arrays are represented in []<br>\n",
    "3) Each numpy array will bear these attributes<br>\n",
    "    \n",
    "    a) ndim - no of dimensions\n",
    "    b) size - no of elements in the array\n",
    "    c) dtype - data type of the numpy array\n",
    "    d) shape - represents no of rows and columns (in 2D and higher dimension arrays)"
   ]
  },
  {
   "cell_type": "markdown",
   "metadata": {},
   "source": [
    "### Numpy Array Creation Methods"
   ]
  },
  {
   "cell_type": "markdown",
   "metadata": {},
   "source": [
    "#### 1) np.zeros()"
   ]
  },
  {
   "cell_type": "code",
   "execution_count": 6,
   "metadata": {},
   "outputs": [
    {
     "name": "stdout",
     "output_type": "stream",
     "text": [
      "[[0. 0.]\n",
      " [0. 0.]]\n",
      "2\n",
      "4\n",
      "(2, 2)\n",
      "float64\n"
     ]
    }
   ],
   "source": [
    "n1 = np.zeros((2,2))\n",
    "print(n1)\n",
    "print(n1.ndim)\n",
    "print(n1.size)\n",
    "print(n1.shape)\n",
    "print(n1.dtype)"
   ]
  },
  {
   "cell_type": "code",
   "execution_count": 7,
   "metadata": {},
   "outputs": [
    {
     "name": "stdout",
     "output_type": "stream",
     "text": [
      "[0. 0. 0. 0. 0. 0. 0.]\n"
     ]
    }
   ],
   "source": [
    "n2 = np.zeros((7))\n",
    "print(n2)"
   ]
  },
  {
   "cell_type": "code",
   "execution_count": 8,
   "metadata": {},
   "outputs": [
    {
     "name": "stdout",
     "output_type": "stream",
     "text": [
      "[[0 0 0 0]\n",
      " [0 0 0 0]\n",
      " [0 0 0 0]]\n",
      "(3, 4)\n"
     ]
    }
   ],
   "source": [
    "n3 = np.zeros((3,4),dtype=int)\n",
    "print(n3)\n",
    "print(n3.shape)"
   ]
  },
  {
   "cell_type": "markdown",
   "metadata": {},
   "source": [
    "#### 2) np.ones()"
   ]
  },
  {
   "cell_type": "code",
   "execution_count": 11,
   "metadata": {},
   "outputs": [
    {
     "name": "stdout",
     "output_type": "stream",
     "text": [
      "[[1 1 1]\n",
      " [1 1 1]\n",
      " [1 1 1]\n",
      " [1 1 1]]\n",
      "2\n",
      "12\n",
      "(4, 3)\n",
      "int32\n",
      "<class 'numpy.ndarray'>\n"
     ]
    }
   ],
   "source": [
    "n4 = np.ones((4,3),dtype=int)\n",
    "print(n4)\n",
    "print(n4.ndim)\n",
    "print(n4.size)\n",
    "print(n4.shape)\n",
    "print(n4.dtype)\n",
    "print(type(n4))"
   ]
  },
  {
   "cell_type": "code",
   "execution_count": 15,
   "metadata": {},
   "outputs": [
    {
     "name": "stdout",
     "output_type": "stream",
     "text": [
      "[[[1. 1.]\n",
      "  [1. 1.]\n",
      "  [1. 1.]\n",
      "  [1. 1.]]\n",
      "\n",
      " [[1. 1.]\n",
      "  [1. 1.]\n",
      "  [1. 1.]\n",
      "  [1. 1.]]\n",
      "\n",
      " [[1. 1.]\n",
      "  [1. 1.]\n",
      "  [1. 1.]\n",
      "  [1. 1.]]]\n",
      "(3, 4, 2)\n",
      "3\n"
     ]
    }
   ],
   "source": [
    "n5 = np.ones((3,4,2))  # 3 = 3rd dim, 4 =rows, 2=cols\n",
    "print(n5)\n",
    "print(n5.shape)\n",
    "print(n5.ndim)"
   ]
  },
  {
   "cell_type": "markdown",
   "metadata": {},
   "source": [
    "#### 3) np.identity()"
   ]
  },
  {
   "cell_type": "code",
   "execution_count": 21,
   "metadata": {},
   "outputs": [
    {
     "name": "stdout",
     "output_type": "stream",
     "text": [
      "[[1. 0. 0. 0.]\n",
      " [0. 1. 0. 0.]\n",
      " [0. 0. 1. 0.]\n",
      " [0. 0. 0. 1.]]\n"
     ]
    }
   ],
   "source": [
    "r = np.identity(4)\n",
    "print(r)"
   ]
  },
  {
   "cell_type": "code",
   "execution_count": 22,
   "metadata": {},
   "outputs": [
    {
     "name": "stdout",
     "output_type": "stream",
     "text": [
      "[[1. 0. 0.]\n",
      " [0. 1. 0.]\n",
      " [0. 0. 1.]]\n",
      "(3, 3)\n"
     ]
    }
   ],
   "source": [
    "r1 = np.identity(3)\n",
    "print(r1)\n",
    "print(r1.shape)"
   ]
  },
  {
   "cell_type": "markdown",
   "metadata": {},
   "source": [
    "#### 4) np.linspace()\n",
    "Generates linearly spaced elements in the given range"
   ]
  },
  {
   "cell_type": "code",
   "execution_count": 27,
   "metadata": {},
   "outputs": [
    {
     "name": "stdout",
     "output_type": "stream",
     "text": [
      "[ 2.  4.  6.  8. 10.]\n",
      "[ 2.  6. 10.]\n"
     ]
    }
   ],
   "source": [
    "t1 = np.linspace(2,10,5)  # start=2,stop=10, num=5\n",
    "print(t1)\n",
    "t2 = np.linspace(2,10,3)  # start = 2,end=10,num=3\n",
    "print(t2)"
   ]
  },
  {
   "cell_type": "code",
   "execution_count": 28,
   "metadata": {},
   "outputs": [
    {
     "name": "stdout",
     "output_type": "stream",
     "text": [
      "[ 3.          4.71428571  6.42857143  8.14285714  9.85714286 11.57142857\n",
      " 13.28571429 15.        ]\n"
     ]
    }
   ],
   "source": [
    "t3 = np.linspace(3,15,8)\n",
    "print(t3)"
   ]
  },
  {
   "cell_type": "code",
   "execution_count": 31,
   "metadata": {},
   "outputs": [
    {
     "name": "stdout",
     "output_type": "stream",
     "text": [
      "[ 5.          5.30612245  5.6122449   5.91836735  6.2244898   6.53061224\n",
      "  6.83673469  7.14285714  7.44897959  7.75510204  8.06122449  8.36734694\n",
      "  8.67346939  8.97959184  9.28571429  9.59183673  9.89795918 10.20408163\n",
      " 10.51020408 10.81632653 11.12244898 11.42857143 11.73469388 12.04081633\n",
      " 12.34693878 12.65306122 12.95918367 13.26530612 13.57142857 13.87755102\n",
      " 14.18367347 14.48979592 14.79591837 15.10204082 15.40816327 15.71428571\n",
      " 16.02040816 16.32653061 16.63265306 16.93877551 17.24489796 17.55102041\n",
      " 17.85714286 18.16326531 18.46938776 18.7755102  19.08163265 19.3877551\n",
      " 19.69387755 20.        ]\n",
      "50\n"
     ]
    }
   ],
   "source": [
    "t4 = np.linspace(5,20)\n",
    "print(t4)\n",
    "print(len(t4))"
   ]
  },
  {
   "cell_type": "code",
   "execution_count": 33,
   "metadata": {},
   "outputs": [
    {
     "name": "stdout",
     "output_type": "stream",
     "text": [
      "(array([ 7.,  9., 11., 13., 15.]), 2.0)\n",
      "2\n"
     ]
    }
   ],
   "source": [
    "t4 = np.linspace(7,15,5,retstep=True)\n",
    "print(t4)\n",
    "print(len(t4))"
   ]
  },
  {
   "cell_type": "markdown",
   "metadata": {},
   "source": [
    "#### 5) np.array()"
   ]
  },
  {
   "cell_type": "code",
   "execution_count": 36,
   "metadata": {},
   "outputs": [
    {
     "name": "stdout",
     "output_type": "stream",
     "text": [
      "[10 20 23 34 45 46]\n",
      "1\n",
      "6\n",
      "(6,)\n",
      "int32\n"
     ]
    }
   ],
   "source": [
    "n1 = np.array([10,20,23,34,45,46])\n",
    "print(n1)\n",
    "print(n1.ndim)\n",
    "print(n1.size)\n",
    "print(n1.shape)\n",
    "print(n1.dtype)"
   ]
  },
  {
   "cell_type": "markdown",
   "metadata": {},
   "source": [
    "#### Creating numpy array using list, tuple"
   ]
  },
  {
   "cell_type": "code",
   "execution_count": 38,
   "metadata": {},
   "outputs": [
    {
     "name": "stdout",
     "output_type": "stream",
     "text": [
      "[[ 4  5  6]\n",
      " [ 7  8  9]\n",
      " [10 11 12]]\n",
      "2\n",
      "9\n",
      "(3, 3)\n",
      "int32\n"
     ]
    }
   ],
   "source": [
    "n2 = np.array(((4,5,6),(7,8,9),(10,11,12)))\n",
    "print(n2)\n",
    "print(n2.ndim)\n",
    "print(n2.size)\n",
    "print(n2.shape)\n",
    "print(n2.dtype)"
   ]
  },
  {
   "cell_type": "markdown",
   "metadata": {},
   "source": [
    "#### Reshape the array\n",
    "A numpy array can be reshaped in terms of product of its factors"
   ]
  },
  {
   "cell_type": "code",
   "execution_count": 42,
   "metadata": {},
   "outputs": [
    {
     "name": "stdout",
     "output_type": "stream",
     "text": [
      "[[10 20 30 40 50 60  5 15 25 35 45 55]]\n",
      "(1, 12)\n",
      "1\n"
     ]
    }
   ],
   "source": [
    "# Factors of 12 = 1,2,3,4,6,12\n",
    "d1 = np.array([10,20,30,40,50,60,5,15,25,35,45,55]).reshape(1,12)\n",
    "print(d1)\n",
    "print(d1.shape)\n",
    "print(len(d1))"
   ]
  },
  {
   "cell_type": "code",
   "execution_count": 46,
   "metadata": {},
   "outputs": [
    {
     "name": "stdout",
     "output_type": "stream",
     "text": [
      "[[[ 1  2  3]\n",
      "  [ 4  5  6]\n",
      "  [ 7  8  9]]\n",
      "\n",
      " [[10 11 12]\n",
      "  [13 14 15]\n",
      "  [16 17 18]]]\n",
      "(2, 3, 3)\n"
     ]
    }
   ],
   "source": [
    "# Factors of 18 - 1,2,3,6,9,18\n",
    "d2 = np.array([1,2,3,4,5,6,7,8,9,10,11,12,13,14,15,16,17,18]).reshape(2,3,3)\n",
    "print(d2)\n",
    "print(d2.shape)"
   ]
  },
  {
   "cell_type": "markdown",
   "metadata": {},
   "source": [
    "#### 6) np.arange()"
   ]
  },
  {
   "cell_type": "code",
   "execution_count": 48,
   "metadata": {},
   "outputs": [
    {
     "name": "stdout",
     "output_type": "stream",
     "text": [
      "[10 11 12 13 14]\n"
     ]
    }
   ],
   "source": [
    "a1 = np.arange(10,15) # start=10,end=15,step=1\n",
    "print(a1)"
   ]
  },
  {
   "cell_type": "code",
   "execution_count": 52,
   "metadata": {},
   "outputs": [
    {
     "name": "stdout",
     "output_type": "stream",
     "text": [
      "[12 19 26 33 40 47]\n"
     ]
    }
   ],
   "source": [
    "a2 = np.arange(12,50,7) # start=12,end=50 step=7\n",
    "print(a2)"
   ]
  },
  {
   "cell_type": "code",
   "execution_count": 55,
   "metadata": {},
   "outputs": [
    {
     "name": "stdout",
     "output_type": "stream",
     "text": [
      "[10  9  8  7  6]\n"
     ]
    }
   ],
   "source": [
    "a3 = np.arange(10,5,-1)  # start=10,end=5,step=-1\n",
    "print(a3)"
   ]
  },
  {
   "cell_type": "markdown",
   "metadata": {},
   "source": [
    "#### np.where()\n",
    "Returns index of the matching conditions"
   ]
  },
  {
   "cell_type": "code",
   "execution_count": 57,
   "metadata": {},
   "outputs": [
    {
     "name": "stdout",
     "output_type": "stream",
     "text": [
      "(array([0, 1, 2, 5, 8, 9], dtype=int64),)\n",
      "[10 12 14 18 34 10]\n"
     ]
    }
   ],
   "source": [
    "r = np.array([10,12,14,15,17,18,21,23,34,10])\n",
    "# Syntax - 1 - returns index\n",
    "r1_index = np.where(r%2==0)\n",
    "print(r1_index)\n",
    "\n",
    "# Fetch values corresponding to the indexes\n",
    "print(r[r1_index])"
   ]
  },
  {
   "cell_type": "code",
   "execution_count": 58,
   "metadata": {},
   "outputs": [
    {
     "name": "stdout",
     "output_type": "stream",
     "text": [
      "[10 12 14 15 17 18 21 23 34 10]\n",
      "[13 15 17  8 10 21 14 16 37 13]\n"
     ]
    }
   ],
   "source": [
    "# Syntax - 2 => returns values - Acts as if-else\n",
    "print(r)\n",
    "r2 = np.where(r%2==0,r+3,r-7) \n",
    "# If elements of array r are divisible by 2, then add 3 to them, otherwise subtract 7 from them\n",
    "print(r2)\n"
   ]
  },
  {
   "cell_type": "code",
   "execution_count": null,
   "metadata": {},
   "outputs": [],
   "source": []
  }
 ],
 "metadata": {
  "kernelspec": {
   "display_name": "Python 3",
   "language": "python",
   "name": "python3"
  },
  "language_info": {
   "codemirror_mode": {
    "name": "ipython",
    "version": 3
   },
   "file_extension": ".py",
   "mimetype": "text/x-python",
   "name": "python",
   "nbconvert_exporter": "python",
   "pygments_lexer": "ipython3",
   "version": "3.8.8"
  }
 },
 "nbformat": 4,
 "nbformat_minor": 2
}
