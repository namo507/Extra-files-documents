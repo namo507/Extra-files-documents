{
 "cells": [
  {
   "cell_type": "code",
   "execution_count": 1,
   "id": "48762937",
   "metadata": {},
   "outputs": [],
   "source": [
    "import pandas as pd\n",
    "import numpy as np\n",
    "import matplotlib.pyplot as plt"
   ]
  },
  {
   "cell_type": "code",
   "execution_count": 2,
   "id": "7271ee0d",
   "metadata": {},
   "outputs": [
    {
     "data": {
      "text/html": [
       "<div>\n",
       "<style scoped>\n",
       "    .dataframe tbody tr th:only-of-type {\n",
       "        vertical-align: middle;\n",
       "    }\n",
       "\n",
       "    .dataframe tbody tr th {\n",
       "        vertical-align: top;\n",
       "    }\n",
       "\n",
       "    .dataframe thead th {\n",
       "        text-align: right;\n",
       "    }\n",
       "</style>\n",
       "<table border=\"1\" class=\"dataframe\">\n",
       "  <thead>\n",
       "    <tr style=\"text-align: right;\">\n",
       "      <th></th>\n",
       "      <th>price</th>\n",
       "      <th>area</th>\n",
       "      <th>bedrooms</th>\n",
       "      <th>bathrooms</th>\n",
       "      <th>stories</th>\n",
       "      <th>mainroad</th>\n",
       "      <th>guestroom</th>\n",
       "      <th>basement</th>\n",
       "      <th>hotwaterheating</th>\n",
       "      <th>airconditioning</th>\n",
       "      <th>parking</th>\n",
       "      <th>prefarea</th>\n",
       "      <th>furnishingstatus</th>\n",
       "    </tr>\n",
       "  </thead>\n",
       "  <tbody>\n",
       "    <tr>\n",
       "      <th>0</th>\n",
       "      <td>13300000</td>\n",
       "      <td>7420</td>\n",
       "      <td>4</td>\n",
       "      <td>2</td>\n",
       "      <td>3</td>\n",
       "      <td>yes</td>\n",
       "      <td>no</td>\n",
       "      <td>no</td>\n",
       "      <td>no</td>\n",
       "      <td>yes</td>\n",
       "      <td>2</td>\n",
       "      <td>yes</td>\n",
       "      <td>furnished</td>\n",
       "    </tr>\n",
       "    <tr>\n",
       "      <th>1</th>\n",
       "      <td>12250000</td>\n",
       "      <td>8960</td>\n",
       "      <td>4</td>\n",
       "      <td>4</td>\n",
       "      <td>4</td>\n",
       "      <td>yes</td>\n",
       "      <td>no</td>\n",
       "      <td>no</td>\n",
       "      <td>no</td>\n",
       "      <td>yes</td>\n",
       "      <td>3</td>\n",
       "      <td>no</td>\n",
       "      <td>furnished</td>\n",
       "    </tr>\n",
       "    <tr>\n",
       "      <th>2</th>\n",
       "      <td>12250000</td>\n",
       "      <td>9960</td>\n",
       "      <td>3</td>\n",
       "      <td>2</td>\n",
       "      <td>2</td>\n",
       "      <td>yes</td>\n",
       "      <td>no</td>\n",
       "      <td>yes</td>\n",
       "      <td>no</td>\n",
       "      <td>no</td>\n",
       "      <td>2</td>\n",
       "      <td>yes</td>\n",
       "      <td>semi-furnished</td>\n",
       "    </tr>\n",
       "    <tr>\n",
       "      <th>3</th>\n",
       "      <td>12215000</td>\n",
       "      <td>7500</td>\n",
       "      <td>4</td>\n",
       "      <td>2</td>\n",
       "      <td>2</td>\n",
       "      <td>yes</td>\n",
       "      <td>no</td>\n",
       "      <td>yes</td>\n",
       "      <td>no</td>\n",
       "      <td>yes</td>\n",
       "      <td>3</td>\n",
       "      <td>yes</td>\n",
       "      <td>furnished</td>\n",
       "    </tr>\n",
       "    <tr>\n",
       "      <th>4</th>\n",
       "      <td>11410000</td>\n",
       "      <td>7420</td>\n",
       "      <td>4</td>\n",
       "      <td>1</td>\n",
       "      <td>2</td>\n",
       "      <td>yes</td>\n",
       "      <td>yes</td>\n",
       "      <td>yes</td>\n",
       "      <td>no</td>\n",
       "      <td>yes</td>\n",
       "      <td>2</td>\n",
       "      <td>no</td>\n",
       "      <td>furnished</td>\n",
       "    </tr>\n",
       "  </tbody>\n",
       "</table>\n",
       "</div>"
      ],
      "text/plain": [
       "      price  area  bedrooms  bathrooms  stories mainroad guestroom basement  \\\n",
       "0  13300000  7420         4          2        3      yes        no       no   \n",
       "1  12250000  8960         4          4        4      yes        no       no   \n",
       "2  12250000  9960         3          2        2      yes        no      yes   \n",
       "3  12215000  7500         4          2        2      yes        no      yes   \n",
       "4  11410000  7420         4          1        2      yes       yes      yes   \n",
       "\n",
       "  hotwaterheating airconditioning  parking prefarea furnishingstatus  \n",
       "0              no             yes        2      yes        furnished  \n",
       "1              no             yes        3       no        furnished  \n",
       "2              no              no        2      yes   semi-furnished  \n",
       "3              no             yes        3      yes        furnished  \n",
       "4              no             yes        2       no        furnished  "
      ]
     },
     "execution_count": 2,
     "metadata": {},
     "output_type": "execute_result"
    }
   ],
   "source": [
    "df = pd.read_csv('Housing.csv')\n",
    "df.head()"
   ]
  },
  {
   "cell_type": "code",
   "execution_count": 3,
   "id": "b1d47849",
   "metadata": {},
   "outputs": [
    {
     "data": {
      "text/plain": [
       "(545, 13)"
      ]
     },
     "execution_count": 3,
     "metadata": {},
     "output_type": "execute_result"
    }
   ],
   "source": [
    "df.shape"
   ]
  },
  {
   "cell_type": "code",
   "execution_count": 4,
   "id": "2d588393",
   "metadata": {},
   "outputs": [
    {
     "data": {
      "text/plain": [
       "price               0\n",
       "area                0\n",
       "bedrooms            0\n",
       "bathrooms           0\n",
       "stories             0\n",
       "mainroad            0\n",
       "guestroom           0\n",
       "basement            0\n",
       "hotwaterheating     0\n",
       "airconditioning     0\n",
       "parking             0\n",
       "prefarea            0\n",
       "furnishingstatus    0\n",
       "dtype: int64"
      ]
     },
     "execution_count": 4,
     "metadata": {},
     "output_type": "execute_result"
    }
   ],
   "source": [
    "df.isnull().sum()"
   ]
  },
  {
   "cell_type": "code",
   "execution_count": 5,
   "id": "490c9c6a",
   "metadata": {},
   "outputs": [
    {
     "data": {
      "text/plain": [
       "price                int64\n",
       "area                 int64\n",
       "bedrooms             int64\n",
       "bathrooms            int64\n",
       "stories              int64\n",
       "mainroad            object\n",
       "guestroom           object\n",
       "basement            object\n",
       "hotwaterheating     object\n",
       "airconditioning     object\n",
       "parking              int64\n",
       "prefarea            object\n",
       "furnishingstatus    object\n",
       "dtype: object"
      ]
     },
     "execution_count": 5,
     "metadata": {},
     "output_type": "execute_result"
    }
   ],
   "source": [
    "df.dtypes"
   ]
  },
  {
   "cell_type": "code",
   "execution_count": 6,
   "id": "f3c209bd",
   "metadata": {},
   "outputs": [
    {
     "data": {
      "text/plain": [
       "['mainroad',\n",
       " 'guestroom',\n",
       " 'basement',\n",
       " 'hotwaterheating',\n",
       " 'airconditioning',\n",
       " 'prefarea',\n",
       " 'furnishingstatus']"
      ]
     },
     "execution_count": 6,
     "metadata": {},
     "output_type": "execute_result"
    }
   ],
   "source": [
    "cat_cols = [i for i in df.columns if df[i].dtypes=='object']\n",
    "cat_cols"
   ]
  },
  {
   "cell_type": "code",
   "execution_count": 7,
   "id": "1823ea1e",
   "metadata": {},
   "outputs": [
    {
     "data": {
      "text/plain": [
       "yes    468\n",
       "no      77\n",
       "Name: mainroad, dtype: int64"
      ]
     },
     "execution_count": 7,
     "metadata": {},
     "output_type": "execute_result"
    }
   ],
   "source": [
    "df['mainroad'].value_counts()"
   ]
  },
  {
   "cell_type": "code",
   "execution_count": 8,
   "id": "2c973d58",
   "metadata": {},
   "outputs": [
    {
     "data": {
      "text/plain": [
       "no     448\n",
       "yes     97\n",
       "Name: guestroom, dtype: int64"
      ]
     },
     "execution_count": 8,
     "metadata": {},
     "output_type": "execute_result"
    }
   ],
   "source": [
    "df['guestroom'].value_counts()"
   ]
  },
  {
   "cell_type": "code",
   "execution_count": 9,
   "id": "75f4c39c",
   "metadata": {},
   "outputs": [
    {
     "data": {
      "text/plain": [
       "no     354\n",
       "yes    191\n",
       "Name: basement, dtype: int64"
      ]
     },
     "execution_count": 9,
     "metadata": {},
     "output_type": "execute_result"
    }
   ],
   "source": [
    "df['basement'].value_counts()"
   ]
  },
  {
   "cell_type": "code",
   "execution_count": 10,
   "id": "8f641f5f",
   "metadata": {},
   "outputs": [
    {
     "data": {
      "text/plain": [
       "no     520\n",
       "yes     25\n",
       "Name: hotwaterheating, dtype: int64"
      ]
     },
     "execution_count": 10,
     "metadata": {},
     "output_type": "execute_result"
    }
   ],
   "source": [
    "df['hotwaterheating'].value_counts()"
   ]
  },
  {
   "cell_type": "code",
   "execution_count": 11,
   "id": "9eaad043",
   "metadata": {},
   "outputs": [
    {
     "data": {
      "text/plain": [
       "no     373\n",
       "yes    172\n",
       "Name: airconditioning, dtype: int64"
      ]
     },
     "execution_count": 11,
     "metadata": {},
     "output_type": "execute_result"
    }
   ],
   "source": [
    "df['airconditioning'].value_counts()"
   ]
  },
  {
   "cell_type": "code",
   "execution_count": 12,
   "id": "342b51d5",
   "metadata": {},
   "outputs": [
    {
     "data": {
      "text/plain": [
       "no     417\n",
       "yes    128\n",
       "Name: prefarea, dtype: int64"
      ]
     },
     "execution_count": 12,
     "metadata": {},
     "output_type": "execute_result"
    }
   ],
   "source": [
    "df['prefarea'].value_counts()"
   ]
  },
  {
   "cell_type": "code",
   "execution_count": 13,
   "id": "f9cdb1dd",
   "metadata": {},
   "outputs": [
    {
     "data": {
      "text/plain": [
       "semi-furnished    227\n",
       "unfurnished       178\n",
       "furnished         140\n",
       "Name: furnishingstatus, dtype: int64"
      ]
     },
     "execution_count": 13,
     "metadata": {},
     "output_type": "execute_result"
    }
   ],
   "source": [
    "df['furnishingstatus'].value_counts()"
   ]
  },
  {
   "cell_type": "code",
   "execution_count": 14,
   "id": "db2ba201",
   "metadata": {},
   "outputs": [],
   "source": [
    "from sklearn.preprocessing import LabelEncoder"
   ]
  },
  {
   "cell_type": "code",
   "execution_count": 15,
   "id": "3e5d99d5",
   "metadata": {},
   "outputs": [],
   "source": [
    "lb = LabelEncoder()\n",
    "for i in cat_cols:\n",
    "    df[i] = lb.fit_transform(df[i])\n",
    "\n",
    "# df['mainrod'] = lb.fit_transform(df['mainroad'])\n",
    "# df['guestroom'] = lb.fit_transform(df['guestroom'])\n",
    "# df['basement'] = lb.fit_transform(df['basement'])"
   ]
  },
  {
   "cell_type": "code",
   "execution_count": 16,
   "id": "ddc4be85",
   "metadata": {},
   "outputs": [
    {
     "data": {
      "text/plain": [
       "price               int64\n",
       "area                int64\n",
       "bedrooms            int64\n",
       "bathrooms           int64\n",
       "stories             int64\n",
       "mainroad            int32\n",
       "guestroom           int32\n",
       "basement            int32\n",
       "hotwaterheating     int32\n",
       "airconditioning     int32\n",
       "parking             int64\n",
       "prefarea            int32\n",
       "furnishingstatus    int32\n",
       "dtype: object"
      ]
     },
     "execution_count": 16,
     "metadata": {},
     "output_type": "execute_result"
    }
   ],
   "source": [
    "df.dtypes"
   ]
  },
  {
   "cell_type": "code",
   "execution_count": 17,
   "id": "834c049d",
   "metadata": {},
   "outputs": [
    {
     "name": "stdout",
     "output_type": "stream",
     "text": [
      "<class 'pandas.core.frame.DataFrame'>\n",
      "<class 'pandas.core.series.Series'>\n"
     ]
    }
   ],
   "source": [
    "x = df.drop('price',axis=1)\n",
    "y = df['price']\n",
    "print(type(x))\n",
    "print(type(y))"
   ]
  },
  {
   "cell_type": "code",
   "execution_count": 18,
   "id": "db967da8",
   "metadata": {},
   "outputs": [
    {
     "name": "stdout",
     "output_type": "stream",
     "text": [
      "(545, 12)\n",
      "(545,)\n"
     ]
    }
   ],
   "source": [
    "print(x.shape)\n",
    "print(y.shape)"
   ]
  },
  {
   "cell_type": "code",
   "execution_count": 19,
   "id": "7bd83f33",
   "metadata": {},
   "outputs": [],
   "source": [
    "from sklearn.model_selection import train_test_split"
   ]
  },
  {
   "cell_type": "code",
   "execution_count": 29,
   "id": "16c9d94b",
   "metadata": {},
   "outputs": [
    {
     "name": "stdout",
     "output_type": "stream",
     "text": [
      "(408, 12)\n",
      "(137, 12)\n",
      "(408,)\n",
      "(137,)\n"
     ]
    }
   ],
   "source": [
    "x_train,x_test,y_train,y_test = train_test_split(x,y,test_size=0.25)\n",
    "print(x_train.shape)\n",
    "print(x_test.shape)\n",
    "print(y_train.shape)\n",
    "print(y_test.shape)"
   ]
  },
  {
   "cell_type": "markdown",
   "id": "b47a3eff",
   "metadata": {},
   "source": [
    "#### Linear Regression"
   ]
  },
  {
   "cell_type": "code",
   "execution_count": 30,
   "id": "2f85740f",
   "metadata": {},
   "outputs": [],
   "source": [
    "from sklearn.linear_model import LinearRegression"
   ]
  },
  {
   "cell_type": "code",
   "execution_count": 31,
   "id": "f3e00577",
   "metadata": {},
   "outputs": [
    {
     "data": {
      "text/html": [
       "<style>#sk-container-id-3 {color: black;background-color: white;}#sk-container-id-3 pre{padding: 0;}#sk-container-id-3 div.sk-toggleable {background-color: white;}#sk-container-id-3 label.sk-toggleable__label {cursor: pointer;display: block;width: 100%;margin-bottom: 0;padding: 0.3em;box-sizing: border-box;text-align: center;}#sk-container-id-3 label.sk-toggleable__label-arrow:before {content: \"▸\";float: left;margin-right: 0.25em;color: #696969;}#sk-container-id-3 label.sk-toggleable__label-arrow:hover:before {color: black;}#sk-container-id-3 div.sk-estimator:hover label.sk-toggleable__label-arrow:before {color: black;}#sk-container-id-3 div.sk-toggleable__content {max-height: 0;max-width: 0;overflow: hidden;text-align: left;background-color: #f0f8ff;}#sk-container-id-3 div.sk-toggleable__content pre {margin: 0.2em;color: black;border-radius: 0.25em;background-color: #f0f8ff;}#sk-container-id-3 input.sk-toggleable__control:checked~div.sk-toggleable__content {max-height: 200px;max-width: 100%;overflow: auto;}#sk-container-id-3 input.sk-toggleable__control:checked~label.sk-toggleable__label-arrow:before {content: \"▾\";}#sk-container-id-3 div.sk-estimator input.sk-toggleable__control:checked~label.sk-toggleable__label {background-color: #d4ebff;}#sk-container-id-3 div.sk-label input.sk-toggleable__control:checked~label.sk-toggleable__label {background-color: #d4ebff;}#sk-container-id-3 input.sk-hidden--visually {border: 0;clip: rect(1px 1px 1px 1px);clip: rect(1px, 1px, 1px, 1px);height: 1px;margin: -1px;overflow: hidden;padding: 0;position: absolute;width: 1px;}#sk-container-id-3 div.sk-estimator {font-family: monospace;background-color: #f0f8ff;border: 1px dotted black;border-radius: 0.25em;box-sizing: border-box;margin-bottom: 0.5em;}#sk-container-id-3 div.sk-estimator:hover {background-color: #d4ebff;}#sk-container-id-3 div.sk-parallel-item::after {content: \"\";width: 100%;border-bottom: 1px solid gray;flex-grow: 1;}#sk-container-id-3 div.sk-label:hover label.sk-toggleable__label {background-color: #d4ebff;}#sk-container-id-3 div.sk-serial::before {content: \"\";position: absolute;border-left: 1px solid gray;box-sizing: border-box;top: 0;bottom: 0;left: 50%;z-index: 0;}#sk-container-id-3 div.sk-serial {display: flex;flex-direction: column;align-items: center;background-color: white;padding-right: 0.2em;padding-left: 0.2em;position: relative;}#sk-container-id-3 div.sk-item {position: relative;z-index: 1;}#sk-container-id-3 div.sk-parallel {display: flex;align-items: stretch;justify-content: center;background-color: white;position: relative;}#sk-container-id-3 div.sk-item::before, #sk-container-id-3 div.sk-parallel-item::before {content: \"\";position: absolute;border-left: 1px solid gray;box-sizing: border-box;top: 0;bottom: 0;left: 50%;z-index: -1;}#sk-container-id-3 div.sk-parallel-item {display: flex;flex-direction: column;z-index: 1;position: relative;background-color: white;}#sk-container-id-3 div.sk-parallel-item:first-child::after {align-self: flex-end;width: 50%;}#sk-container-id-3 div.sk-parallel-item:last-child::after {align-self: flex-start;width: 50%;}#sk-container-id-3 div.sk-parallel-item:only-child::after {width: 0;}#sk-container-id-3 div.sk-dashed-wrapped {border: 1px dashed gray;margin: 0 0.4em 0.5em 0.4em;box-sizing: border-box;padding-bottom: 0.4em;background-color: white;}#sk-container-id-3 div.sk-label label {font-family: monospace;font-weight: bold;display: inline-block;line-height: 1.2em;}#sk-container-id-3 div.sk-label-container {text-align: center;}#sk-container-id-3 div.sk-container {/* jupyter's `normalize.less` sets `[hidden] { display: none; }` but bootstrap.min.css set `[hidden] { display: none !important; }` so we also need the `!important` here to be able to override the default hidden behavior on the sphinx rendered scikit-learn.org. See: https://github.com/scikit-learn/scikit-learn/issues/21755 */display: inline-block !important;position: relative;}#sk-container-id-3 div.sk-text-repr-fallback {display: none;}</style><div id=\"sk-container-id-3\" class=\"sk-top-container\"><div class=\"sk-text-repr-fallback\"><pre>LinearRegression()</pre><b>In a Jupyter environment, please rerun this cell to show the HTML representation or trust the notebook. <br />On GitHub, the HTML representation is unable to render, please try loading this page with nbviewer.org.</b></div><div class=\"sk-container\" hidden><div class=\"sk-item\"><div class=\"sk-estimator sk-toggleable\"><input class=\"sk-toggleable__control sk-hidden--visually\" id=\"sk-estimator-id-3\" type=\"checkbox\" checked><label for=\"sk-estimator-id-3\" class=\"sk-toggleable__label sk-toggleable__label-arrow\">LinearRegression</label><div class=\"sk-toggleable__content\"><pre>LinearRegression()</pre></div></div></div></div></div>"
      ],
      "text/plain": [
       "LinearRegression()"
      ]
     },
     "execution_count": 31,
     "metadata": {},
     "output_type": "execute_result"
    }
   ],
   "source": [
    "m1 = LinearRegression()\n",
    "m1.fit(x_train,y_train)"
   ]
  },
  {
   "cell_type": "code",
   "execution_count": 32,
   "id": "7ee16c24",
   "metadata": {},
   "outputs": [
    {
     "name": "stdout",
     "output_type": "stream",
     "text": [
      "Training score 0.6708586142312731\n",
      "Testing score 0.6884389003472161\n"
     ]
    }
   ],
   "source": [
    "# r2 score\n",
    "print('Training score',m1.score(x_train,y_train))\n",
    "print('Testing score',m1.score(x_test,y_test))"
   ]
  },
  {
   "cell_type": "code",
   "execution_count": 36,
   "id": "99450276",
   "metadata": {},
   "outputs": [
    {
     "name": "stdout",
     "output_type": "stream",
     "text": [
      "[ 5343384.09055772  5546964.32018476  3873761.2734722   3714680.29939052\n",
      "  4639585.44629983  5689516.20701994  5026861.68091572  6131738.55852094\n",
      "  6918473.53162878  6064491.77606318  4364199.72732429  7753351.62160481\n",
      "  7529181.52124787  2835868.44942672  3712578.09200169  2699189.36107482\n",
      "  4439417.46829576  5840998.32865744  4369890.98349703  3324565.21701717\n",
      "  4856410.75562165  5573337.55435571  5987209.27904123  6482488.18690401\n",
      "  4597419.28631483  3861475.48212697  5135756.8701228   6294389.71968409\n",
      "  7636194.12033353  3064024.11062294  6321816.90854159  2783638.74962007\n",
      "  5259770.64516912  8016403.67749281  2105272.39568343  3917605.77095812\n",
      "  4533575.37689701  5985691.68123432  6722531.56072362  5940536.11991688\n",
      "  6486471.03317409  4083175.50784517  4051319.76071714  2964729.85754775\n",
      "  2285190.07541815  3299748.98532963  3677645.7659296   4800702.95213941\n",
      "  2988420.78473328  4970619.69937253  4218209.20480874  6643199.93169644\n",
      "  2869370.25602447  5963736.27154996  8095403.74276166  2612406.750976\n",
      "  6475364.45704156  5952413.00155366  3573290.05250722  7681189.35431549\n",
      "  9531420.95600297  6269871.96507502  6809388.37163003  4589588.94091986\n",
      "  6584929.44449878  4300296.08779832  4371218.76723354  3336973.33286095\n",
      "  6757895.44317093  3606303.64747843  2752005.19995037  4503743.14537724\n",
      "  4466612.11952318  2979612.77914409  3963343.16781732  6191999.66699686\n",
      "  4788011.8659203   4055782.76217579  6002807.23058834  4887498.90512685\n",
      "  4728693.33263315  4072648.76457838  2733129.87479455  3518057.62337244\n",
      "  4768833.25329495  4917339.24107088  3276054.48993627  7225194.28214627\n",
      "  2547884.54858838  2787167.90827541  3931444.40627624  3169836.47351419\n",
      "  5762746.34837415  3165815.53502448  6245351.69978814  3522111.35021455\n",
      "  3020823.47012611  3767901.38012978  6409731.69201519  3260036.19721337\n",
      "  6524996.92041666  5869420.44861837  3658040.836716    6203625.36949844\n",
      "  6157469.69102893 10306018.91576238  4592740.03342669  4731311.32416478\n",
      "  4937603.29539606  3389534.43093701  3925746.33268731  3952312.03142877\n",
      "  6125277.19695681  2876269.31271944  4215168.25777995  3022928.92672329\n",
      "  4197119.669532    4439417.46829576  6904426.77193367  5607983.44218495\n",
      "  4026193.09822113  2610843.57626715  5049685.61260656  3785211.63597393\n",
      "  4615860.87559422  4101496.2654916   3740426.80567354  3339380.7552221\n",
      "  3586493.99388124  6342665.03497468  4518969.63133385  2768055.59581133\n",
      "  6956583.02824012  3291355.53092129  3044514.39731164  3936549.23681276\n",
      "  8023222.26364564]\n"
     ]
    }
   ],
   "source": [
    "ypred_m1 = m1.predict(x_test)\n",
    "print(ypred_m1)"
   ]
  },
  {
   "cell_type": "code",
   "execution_count": 34,
   "id": "644cd4b1",
   "metadata": {},
   "outputs": [],
   "source": [
    "from sklearn.metrics import r2_score,mean_absolute_error,mean_squared_error"
   ]
  },
  {
   "cell_type": "code",
   "execution_count": 37,
   "id": "5128cdf8",
   "metadata": {},
   "outputs": [
    {
     "name": "stdout",
     "output_type": "stream",
     "text": [
      "MSE 1300494868169.0525\n",
      "RMSE 1140392.4184985852\n",
      "MAE 797776.2211151692\n",
      "r2_Score 0.6884389003472161\n"
     ]
    }
   ],
   "source": [
    "print('MSE',mean_squared_error(y_test,ypred_m1))\n",
    "print('RMSE',np.sqrt(mean_squared_error(y_test,ypred_m1)))\n",
    "print('MAE',mean_absolute_error(y_test,ypred_m1))\n",
    "print('r2_Score',r2_score(y_test,ypred_m1))"
   ]
  },
  {
   "cell_type": "code",
   "execution_count": null,
   "id": "5de9aa27",
   "metadata": {},
   "outputs": [],
   "source": []
  }
 ],
 "metadata": {
  "kernelspec": {
   "display_name": "Python 3",
   "language": "python",
   "name": "python3"
  },
  "language_info": {
   "codemirror_mode": {
    "name": "ipython",
    "version": 3
   },
   "file_extension": ".py",
   "mimetype": "text/x-python",
   "name": "python",
   "nbconvert_exporter": "python",
   "pygments_lexer": "ipython3",
   "version": "3.8.8"
  }
 },
 "nbformat": 4,
 "nbformat_minor": 5
}
