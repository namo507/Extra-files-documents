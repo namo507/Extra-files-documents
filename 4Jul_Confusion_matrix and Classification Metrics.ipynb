{
 "cells": [
  {
   "cell_type": "markdown",
   "id": "2afbb841",
   "metadata": {},
   "source": [
    "### Confusion Matrix\n",
    "\n",
    "1) It is a performance metric for classification problem statements.<br>\n",
    "2) It is a square matrix made up of 4 terms - TP,TN,FP,FN<br>\n",
    "3) If target variable has n categories then shape of the confusion matrix will be (n,n)<br>"
   ]
  },
  {
   "cell_type": "markdown",
   "id": "df791482",
   "metadata": {},
   "source": [
    "#### Terminologies\n",
    "\n",
    "<b>1) TP (True Positive) -</b><br>\n",
    "Actual value is positive, ML model also predicted a positive value.\n",
    "\n",
    "<b>2) FN (False Negative) - </b><br>\n",
    "Actual value is positive, ML model predicted a negative value\n",
    "\n",
    "<b>3) FP (False Positive) - </b><br>\n",
    "Actual value is negative, ML model predicted a positive value\n",
    "\n",
    "<b>4) TN (True Negative) - </b><br>\n",
    "Actual value is negative, ML model also predicted a negative value\n",
    "\n",
    "#### Note\n",
    "Sum of all the actual positive values/cases = TP + FN<br>\n",
    "Sum of all the actual negative values/cases = FP + TN <br>\n",
    "Sum of all the positively predicted values/cases = TP + FP<br>\n",
    "Sum of all the negatively predicted values/cases = FN + TN<br>"
   ]
  },
  {
   "cell_type": "code",
   "execution_count": 1,
   "id": "e2fcf05b",
   "metadata": {},
   "outputs": [],
   "source": [
    "# x = ['Age','Gender','BMI','Body_Weight','Blood_Glucose_Level']\n",
    "# y = Diabetic (0) or Non-diabetic(1)"
   ]
  },
  {
   "cell_type": "code",
   "execution_count": 3,
   "id": "e0c3442d",
   "metadata": {},
   "outputs": [
    {
     "name": "stdout",
     "output_type": "stream",
     "text": [
      "18 18\n"
     ]
    }
   ],
   "source": [
    "# Binary Classification Example\n",
    "# 0 - Positive (True), 1-Negative(False)\n",
    "y_true = [1,0,1,1,0,0,1,0,0,1,0,1,1,0,1,0,0,1]  # Actual values\n",
    "y_pred = [0,1,0,1,0,0,1,1,0,1,1,0,0,1,0,1,0,0]  # Predicted values \n",
    "print(len(y_true),len(y_pred))"
   ]
  },
  {
   "cell_type": "markdown",
   "id": "80c2218f",
   "metadata": {},
   "source": [
    "### Classification Metrics\n",
    "\n",
    "<b>1) Precision - TP/(TP+FP), TN/(TN+FN)</b><br>\n",
    "From all the positively predicted cases, how many are actually positive<br>\n",
    "From all the negatively predicted cases, how many are actually negative\n",
    "\n",
    "<b>2) Recall - TP/(TP+FN), TN/(TN+FP)</b><br>\n",
    "From all the actual positive cases, how many has the ML model predicted positive<br>\n",
    "From all the actual negative cases, how many has the ML model predicted negative<br>\n",
    "\n",
    "<b>3) F1-Score - 2 * Precision * Recall /( Precision + Recall)</b><br>\n",
    "It is the Harmonic mean between Precision and Recall<br>\n",
    "\n",
    "<b>4) Accuracy - (TP+TN)/(TP+FN+FP+TN) </b><br>\n",
    "Out of all the values, how many the model has predicted correctly"
   ]
  },
  {
   "cell_type": "code",
   "execution_count": 4,
   "id": "ad0571f3",
   "metadata": {},
   "outputs": [
    {
     "name": "stdout",
     "output_type": "stream",
     "text": [
      "[1, 0, 1, 1, 0, 0, 1, 0, 0, 1, 0, 1, 1, 0, 1, 0, 0, 1]\n",
      "[0, 1, 0, 1, 0, 0, 1, 1, 0, 1, 1, 0, 0, 1, 0, 1, 0, 0]\n"
     ]
    }
   ],
   "source": [
    "print(y_true)\n",
    "print(y_pred)"
   ]
  },
  {
   "cell_type": "code",
   "execution_count": 9,
   "id": "066c9ca6",
   "metadata": {},
   "outputs": [],
   "source": [
    "from sklearn.metrics import confusion_matrix,classification_report"
   ]
  },
  {
   "cell_type": "code",
   "execution_count": 7,
   "id": "eb2ec45d",
   "metadata": {},
   "outputs": [
    {
     "name": "stdout",
     "output_type": "stream",
     "text": [
      "[[4 5]\n",
      " [6 3]]\n"
     ]
    }
   ],
   "source": [
    "cm = confusion_matrix(y_true,y_pred)\n",
    "print(cm)\n",
    "# Actual value = 0, predicted value is 0 => TP = 4\n",
    "# Actual value = 0, predicted value is 1 => FN = 5\n",
    "# Actual value = 1, predicted value is 0 => FP = 6\n",
    "# Actual value = 1, predicted value is 1 => TN = 3\n",
    "# [TP=4 FN=5]\n",
    "# [FP=6 TN=3]"
   ]
  },
  {
   "cell_type": "code",
   "execution_count": 10,
   "id": "e89830ee",
   "metadata": {},
   "outputs": [
    {
     "name": "stdout",
     "output_type": "stream",
     "text": [
      "              precision    recall  f1-score   support\n",
      "\n",
      "           0       0.40      0.44      0.42         9\n",
      "           1       0.38      0.33      0.35         9\n",
      "\n",
      "    accuracy                           0.39        18\n",
      "   macro avg       0.39      0.39      0.39        18\n",
      "weighted avg       0.39      0.39      0.39        18\n",
      "\n"
     ]
    }
   ],
   "source": [
    "print(classification_report(y_true,y_pred))"
   ]
  },
  {
   "cell_type": "code",
   "execution_count": 12,
   "id": "0f9db701",
   "metadata": {},
   "outputs": [],
   "source": [
    "# Precision - TP/(TP+FP), TN/(TN+FN)\n",
    "# Recall - TP/(TP+FN), TN/(TN+FP)\n",
    "# F1-Score - 2 * Precision * Recall /( Precision + Recall)\n",
    "# Acc = (TP+TN)/(TP+TN+FP+FN)"
   ]
  },
  {
   "cell_type": "markdown",
   "id": "3626130f",
   "metadata": {},
   "source": [
    "### Validation"
   ]
  },
  {
   "cell_type": "code",
   "execution_count": 11,
   "id": "0f24e70e",
   "metadata": {},
   "outputs": [
    {
     "name": "stdout",
     "output_type": "stream",
     "text": [
      "[[4 5]\n",
      " [6 3]]\n"
     ]
    }
   ],
   "source": [
    "# [TP=4 FN=5]\n",
    "# [FP=6 TN=3]\n",
    "print(cm)"
   ]
  },
  {
   "cell_type": "code",
   "execution_count": 14,
   "id": "7d9590bf",
   "metadata": {},
   "outputs": [
    {
     "name": "stdout",
     "output_type": "stream",
     "text": [
      "Pre0 0.4\n",
      "Pre1 0.375\n",
      "Rec0 0.4444444444444444\n",
      "Rec1 0.3333333333333333\n"
     ]
    }
   ],
   "source": [
    "pre0 = 4/(4+6)\n",
    "pre1 = 3/(3+5)\n",
    "rec0 = 4/(4+5)\n",
    "rec1 = 3/(3+6)\n",
    "print('Pre0',pre0)\n",
    "print('Pre1',pre1)\n",
    "print('Rec0',rec0)\n",
    "print('Rec1',rec1)"
   ]
  },
  {
   "cell_type": "code",
   "execution_count": 15,
   "id": "921a24a9",
   "metadata": {},
   "outputs": [
    {
     "name": "stdout",
     "output_type": "stream",
     "text": [
      "F1_Score0 0.4210526315789474\n",
      "F1_Score1 0.35294117647058826\n"
     ]
    }
   ],
   "source": [
    "f1s0 = 2*pre0*rec0/(pre0+rec0)\n",
    "f1s1 = 2*pre1*rec1/(pre1+rec1)\n",
    "print('F1_Score0',f1s0)\n",
    "print('F1_Score1',f1s1)"
   ]
  },
  {
   "cell_type": "code",
   "execution_count": 16,
   "id": "6de04c36",
   "metadata": {},
   "outputs": [
    {
     "name": "stdout",
     "output_type": "stream",
     "text": [
      "Accuracy 0.3888888888888889\n"
     ]
    }
   ],
   "source": [
    "acc = (4+3)/(4+5+6+3)\n",
    "print('Accuracy',acc)"
   ]
  },
  {
   "cell_type": "markdown",
   "id": "6716a5f5",
   "metadata": {},
   "source": [
    "#### 3 class classification"
   ]
  },
  {
   "cell_type": "code",
   "execution_count": 20,
   "id": "410a949d",
   "metadata": {},
   "outputs": [
    {
     "name": "stdout",
     "output_type": "stream",
     "text": [
      "18 18\n"
     ]
    }
   ],
   "source": [
    "y_true = [1,0,1,2,0,2,1,0,2,1,0,1,1,2,1,2,2,1]\n",
    "y_pred = [0,1,2,1,0,2,1,1,0,1,1,0,2,1,0,1,2,0]\n",
    "print(len(y_true),len(y_pred))"
   ]
  },
  {
   "cell_type": "markdown",
   "id": "ff1e705b",
   "metadata": {},
   "source": [
    "#### Exercise\n",
    "1) Generate Confusion Matrix<br>\n",
    "2) Validate for Precision, Recall, Accuracy and F1-score from classification_report"
   ]
  },
  {
   "cell_type": "code",
   "execution_count": null,
   "id": "cf07b641",
   "metadata": {},
   "outputs": [],
   "source": []
  },
  {
   "cell_type": "code",
   "execution_count": null,
   "id": "697e38d4",
   "metadata": {},
   "outputs": [],
   "source": []
  },
  {
   "cell_type": "code",
   "execution_count": 5,
   "id": "39f2fe88",
   "metadata": {},
   "outputs": [],
   "source": [
    "#### Pre = TP/(TP+FP)\n",
    "# Rec = TP/(TP+FN)\n"
   ]
  },
  {
   "cell_type": "code",
   "execution_count": null,
   "id": "fab7168a",
   "metadata": {},
   "outputs": [],
   "source": []
  }
 ],
 "metadata": {
  "kernelspec": {
   "display_name": "Python 3",
   "language": "python",
   "name": "python3"
  },
  "language_info": {
   "codemirror_mode": {
    "name": "ipython",
    "version": 3
   },
   "file_extension": ".py",
   "mimetype": "text/x-python",
   "name": "python",
   "nbconvert_exporter": "python",
   "pygments_lexer": "ipython3",
   "version": "3.8.8"
  }
 },
 "nbformat": 4,
 "nbformat_minor": 5
}
