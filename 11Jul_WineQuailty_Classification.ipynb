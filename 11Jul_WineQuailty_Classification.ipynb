{
 "cells": [
  {
   "cell_type": "code",
   "execution_count": 2,
   "id": "ac86481f",
   "metadata": {},
   "outputs": [],
   "source": [
    "import pandas as pd\n",
    "import numpy as np\n",
    "import matplotlib.pyplot as plt"
   ]
  },
  {
   "cell_type": "code",
   "execution_count": 3,
   "id": "f1d9ac5c",
   "metadata": {},
   "outputs": [
    {
     "data": {
      "text/html": [
       "<div>\n",
       "<style scoped>\n",
       "    .dataframe tbody tr th:only-of-type {\n",
       "        vertical-align: middle;\n",
       "    }\n",
       "\n",
       "    .dataframe tbody tr th {\n",
       "        vertical-align: top;\n",
       "    }\n",
       "\n",
       "    .dataframe thead th {\n",
       "        text-align: right;\n",
       "    }\n",
       "</style>\n",
       "<table border=\"1\" class=\"dataframe\">\n",
       "  <thead>\n",
       "    <tr style=\"text-align: right;\">\n",
       "      <th></th>\n",
       "      <th>fixed acidity</th>\n",
       "      <th>volatile acidity</th>\n",
       "      <th>citric acid</th>\n",
       "      <th>residual sugar</th>\n",
       "      <th>chlorides</th>\n",
       "      <th>free sulfur dioxide</th>\n",
       "      <th>total sulfur dioxide</th>\n",
       "      <th>density</th>\n",
       "      <th>pH</th>\n",
       "      <th>sulphates</th>\n",
       "      <th>alcohol</th>\n",
       "      <th>quality</th>\n",
       "    </tr>\n",
       "  </thead>\n",
       "  <tbody>\n",
       "    <tr>\n",
       "      <th>0</th>\n",
       "      <td>7.4</td>\n",
       "      <td>0.70</td>\n",
       "      <td>0.00</td>\n",
       "      <td>1.9</td>\n",
       "      <td>0.076</td>\n",
       "      <td>11.0</td>\n",
       "      <td>34.0</td>\n",
       "      <td>0.9978</td>\n",
       "      <td>3.51</td>\n",
       "      <td>0.56</td>\n",
       "      <td>9.4</td>\n",
       "      <td>5</td>\n",
       "    </tr>\n",
       "    <tr>\n",
       "      <th>1</th>\n",
       "      <td>7.8</td>\n",
       "      <td>0.88</td>\n",
       "      <td>0.00</td>\n",
       "      <td>2.6</td>\n",
       "      <td>0.098</td>\n",
       "      <td>25.0</td>\n",
       "      <td>67.0</td>\n",
       "      <td>0.9968</td>\n",
       "      <td>3.20</td>\n",
       "      <td>0.68</td>\n",
       "      <td>9.8</td>\n",
       "      <td>5</td>\n",
       "    </tr>\n",
       "    <tr>\n",
       "      <th>2</th>\n",
       "      <td>7.8</td>\n",
       "      <td>0.76</td>\n",
       "      <td>0.04</td>\n",
       "      <td>2.3</td>\n",
       "      <td>0.092</td>\n",
       "      <td>15.0</td>\n",
       "      <td>54.0</td>\n",
       "      <td>0.9970</td>\n",
       "      <td>3.26</td>\n",
       "      <td>0.65</td>\n",
       "      <td>9.8</td>\n",
       "      <td>5</td>\n",
       "    </tr>\n",
       "    <tr>\n",
       "      <th>3</th>\n",
       "      <td>11.2</td>\n",
       "      <td>0.28</td>\n",
       "      <td>0.56</td>\n",
       "      <td>1.9</td>\n",
       "      <td>0.075</td>\n",
       "      <td>17.0</td>\n",
       "      <td>60.0</td>\n",
       "      <td>0.9980</td>\n",
       "      <td>3.16</td>\n",
       "      <td>0.58</td>\n",
       "      <td>9.8</td>\n",
       "      <td>6</td>\n",
       "    </tr>\n",
       "    <tr>\n",
       "      <th>4</th>\n",
       "      <td>7.4</td>\n",
       "      <td>0.70</td>\n",
       "      <td>0.00</td>\n",
       "      <td>1.9</td>\n",
       "      <td>0.076</td>\n",
       "      <td>11.0</td>\n",
       "      <td>34.0</td>\n",
       "      <td>0.9978</td>\n",
       "      <td>3.51</td>\n",
       "      <td>0.56</td>\n",
       "      <td>9.4</td>\n",
       "      <td>5</td>\n",
       "    </tr>\n",
       "  </tbody>\n",
       "</table>\n",
       "</div>"
      ],
      "text/plain": [
       "   fixed acidity  volatile acidity  citric acid  residual sugar  chlorides  \\\n",
       "0            7.4              0.70         0.00             1.9      0.076   \n",
       "1            7.8              0.88         0.00             2.6      0.098   \n",
       "2            7.8              0.76         0.04             2.3      0.092   \n",
       "3           11.2              0.28         0.56             1.9      0.075   \n",
       "4            7.4              0.70         0.00             1.9      0.076   \n",
       "\n",
       "   free sulfur dioxide  total sulfur dioxide  density    pH  sulphates  \\\n",
       "0                 11.0                  34.0   0.9978  3.51       0.56   \n",
       "1                 25.0                  67.0   0.9968  3.20       0.68   \n",
       "2                 15.0                  54.0   0.9970  3.26       0.65   \n",
       "3                 17.0                  60.0   0.9980  3.16       0.58   \n",
       "4                 11.0                  34.0   0.9978  3.51       0.56   \n",
       "\n",
       "   alcohol  quality  \n",
       "0      9.4        5  \n",
       "1      9.8        5  \n",
       "2      9.8        5  \n",
       "3      9.8        6  \n",
       "4      9.4        5  "
      ]
     },
     "execution_count": 3,
     "metadata": {},
     "output_type": "execute_result"
    }
   ],
   "source": [
    "df = pd.read_csv('winequality-red.csv')\n",
    "df.head()"
   ]
  },
  {
   "cell_type": "code",
   "execution_count": 4,
   "id": "3f16eec7",
   "metadata": {},
   "outputs": [
    {
     "data": {
      "text/plain": [
       "(1599, 12)"
      ]
     },
     "execution_count": 4,
     "metadata": {},
     "output_type": "execute_result"
    }
   ],
   "source": [
    "df.shape"
   ]
  },
  {
   "cell_type": "code",
   "execution_count": 5,
   "id": "d8ba72a2",
   "metadata": {},
   "outputs": [
    {
     "data": {
      "text/plain": [
       "fixed acidity           0\n",
       "volatile acidity        0\n",
       "citric acid             0\n",
       "residual sugar          0\n",
       "chlorides               0\n",
       "free sulfur dioxide     0\n",
       "total sulfur dioxide    0\n",
       "density                 0\n",
       "pH                      0\n",
       "sulphates               0\n",
       "alcohol                 0\n",
       "quality                 0\n",
       "dtype: int64"
      ]
     },
     "execution_count": 5,
     "metadata": {},
     "output_type": "execute_result"
    }
   ],
   "source": [
    "df.isnull().sum()"
   ]
  },
  {
   "cell_type": "code",
   "execution_count": 6,
   "id": "65a171e3",
   "metadata": {},
   "outputs": [
    {
     "data": {
      "text/plain": [
       "5    681\n",
       "6    638\n",
       "7    199\n",
       "4     53\n",
       "8     18\n",
       "3     10\n",
       "Name: quality, dtype: int64"
      ]
     },
     "execution_count": 6,
     "metadata": {},
     "output_type": "execute_result"
    }
   ],
   "source": [
    "df['quality'].value_counts()"
   ]
  },
  {
   "cell_type": "code",
   "execution_count": 7,
   "id": "27005d44",
   "metadata": {},
   "outputs": [
    {
     "data": {
      "text/plain": [
       "fixed acidity           float64\n",
       "volatile acidity        float64\n",
       "citric acid             float64\n",
       "residual sugar          float64\n",
       "chlorides               float64\n",
       "free sulfur dioxide     float64\n",
       "total sulfur dioxide    float64\n",
       "density                 float64\n",
       "pH                      float64\n",
       "sulphates               float64\n",
       "alcohol                 float64\n",
       "quality                   int64\n",
       "dtype: object"
      ]
     },
     "execution_count": 7,
     "metadata": {},
     "output_type": "execute_result"
    }
   ],
   "source": [
    "df.dtypes"
   ]
  },
  {
   "cell_type": "code",
   "execution_count": 8,
   "id": "b1ef9796",
   "metadata": {},
   "outputs": [
    {
     "name": "stdout",
     "output_type": "stream",
     "text": [
      "(1599, 11)\n",
      "(1599,)\n",
      "<class 'pandas.core.frame.DataFrame'>\n",
      "<class 'pandas.core.series.Series'>\n"
     ]
    }
   ],
   "source": [
    "x = df.iloc[:,:-1]\n",
    "y = df.iloc[:,-1]\n",
    "print(x.shape)\n",
    "print(y.shape)\n",
    "print(type(x))\n",
    "print(type(y))"
   ]
  },
  {
   "cell_type": "code",
   "execution_count": 9,
   "id": "a02ea428",
   "metadata": {},
   "outputs": [
    {
     "data": {
      "text/html": [
       "<div>\n",
       "<style scoped>\n",
       "    .dataframe tbody tr th:only-of-type {\n",
       "        vertical-align: middle;\n",
       "    }\n",
       "\n",
       "    .dataframe tbody tr th {\n",
       "        vertical-align: top;\n",
       "    }\n",
       "\n",
       "    .dataframe thead th {\n",
       "        text-align: right;\n",
       "    }\n",
       "</style>\n",
       "<table border=\"1\" class=\"dataframe\">\n",
       "  <thead>\n",
       "    <tr style=\"text-align: right;\">\n",
       "      <th></th>\n",
       "      <th>fixed acidity</th>\n",
       "      <th>volatile acidity</th>\n",
       "      <th>citric acid</th>\n",
       "      <th>residual sugar</th>\n",
       "      <th>chlorides</th>\n",
       "      <th>free sulfur dioxide</th>\n",
       "      <th>total sulfur dioxide</th>\n",
       "      <th>density</th>\n",
       "      <th>pH</th>\n",
       "      <th>sulphates</th>\n",
       "      <th>alcohol</th>\n",
       "    </tr>\n",
       "  </thead>\n",
       "  <tbody>\n",
       "    <tr>\n",
       "      <th>0</th>\n",
       "      <td>7.4</td>\n",
       "      <td>0.70</td>\n",
       "      <td>0.00</td>\n",
       "      <td>1.9</td>\n",
       "      <td>0.076</td>\n",
       "      <td>11.0</td>\n",
       "      <td>34.0</td>\n",
       "      <td>0.9978</td>\n",
       "      <td>3.51</td>\n",
       "      <td>0.56</td>\n",
       "      <td>9.4</td>\n",
       "    </tr>\n",
       "    <tr>\n",
       "      <th>1</th>\n",
       "      <td>7.8</td>\n",
       "      <td>0.88</td>\n",
       "      <td>0.00</td>\n",
       "      <td>2.6</td>\n",
       "      <td>0.098</td>\n",
       "      <td>25.0</td>\n",
       "      <td>67.0</td>\n",
       "      <td>0.9968</td>\n",
       "      <td>3.20</td>\n",
       "      <td>0.68</td>\n",
       "      <td>9.8</td>\n",
       "    </tr>\n",
       "    <tr>\n",
       "      <th>2</th>\n",
       "      <td>7.8</td>\n",
       "      <td>0.76</td>\n",
       "      <td>0.04</td>\n",
       "      <td>2.3</td>\n",
       "      <td>0.092</td>\n",
       "      <td>15.0</td>\n",
       "      <td>54.0</td>\n",
       "      <td>0.9970</td>\n",
       "      <td>3.26</td>\n",
       "      <td>0.65</td>\n",
       "      <td>9.8</td>\n",
       "    </tr>\n",
       "    <tr>\n",
       "      <th>3</th>\n",
       "      <td>11.2</td>\n",
       "      <td>0.28</td>\n",
       "      <td>0.56</td>\n",
       "      <td>1.9</td>\n",
       "      <td>0.075</td>\n",
       "      <td>17.0</td>\n",
       "      <td>60.0</td>\n",
       "      <td>0.9980</td>\n",
       "      <td>3.16</td>\n",
       "      <td>0.58</td>\n",
       "      <td>9.8</td>\n",
       "    </tr>\n",
       "    <tr>\n",
       "      <th>4</th>\n",
       "      <td>7.4</td>\n",
       "      <td>0.70</td>\n",
       "      <td>0.00</td>\n",
       "      <td>1.9</td>\n",
       "      <td>0.076</td>\n",
       "      <td>11.0</td>\n",
       "      <td>34.0</td>\n",
       "      <td>0.9978</td>\n",
       "      <td>3.51</td>\n",
       "      <td>0.56</td>\n",
       "      <td>9.4</td>\n",
       "    </tr>\n",
       "  </tbody>\n",
       "</table>\n",
       "</div>"
      ],
      "text/plain": [
       "   fixed acidity  volatile acidity  citric acid  residual sugar  chlorides  \\\n",
       "0            7.4              0.70         0.00             1.9      0.076   \n",
       "1            7.8              0.88         0.00             2.6      0.098   \n",
       "2            7.8              0.76         0.04             2.3      0.092   \n",
       "3           11.2              0.28         0.56             1.9      0.075   \n",
       "4            7.4              0.70         0.00             1.9      0.076   \n",
       "\n",
       "   free sulfur dioxide  total sulfur dioxide  density    pH  sulphates  \\\n",
       "0                 11.0                  34.0   0.9978  3.51       0.56   \n",
       "1                 25.0                  67.0   0.9968  3.20       0.68   \n",
       "2                 15.0                  54.0   0.9970  3.26       0.65   \n",
       "3                 17.0                  60.0   0.9980  3.16       0.58   \n",
       "4                 11.0                  34.0   0.9978  3.51       0.56   \n",
       "\n",
       "   alcohol  \n",
       "0      9.4  \n",
       "1      9.8  \n",
       "2      9.8  \n",
       "3      9.8  \n",
       "4      9.4  "
      ]
     },
     "execution_count": 9,
     "metadata": {},
     "output_type": "execute_result"
    }
   ],
   "source": [
    "x.head()"
   ]
  },
  {
   "cell_type": "code",
   "execution_count": 10,
   "id": "186501fe",
   "metadata": {},
   "outputs": [
    {
     "data": {
      "text/plain": [
       "0    5\n",
       "1    5\n",
       "2    5\n",
       "3    6\n",
       "4    5\n",
       "Name: quality, dtype: int64"
      ]
     },
     "execution_count": 10,
     "metadata": {},
     "output_type": "execute_result"
    }
   ],
   "source": [
    "y.head()"
   ]
  },
  {
   "cell_type": "code",
   "execution_count": 11,
   "id": "d9da7a27",
   "metadata": {},
   "outputs": [],
   "source": [
    "from sklearn.model_selection import train_test_split"
   ]
  },
  {
   "cell_type": "code",
   "execution_count": 22,
   "id": "334ea4ec",
   "metadata": {},
   "outputs": [
    {
     "name": "stdout",
     "output_type": "stream",
     "text": [
      "(1119, 11)\n",
      "(480, 11)\n",
      "(1119,)\n",
      "(480,)\n"
     ]
    }
   ],
   "source": [
    "x_train,x_test,y_train,y_test = train_test_split(x,y,test_size=0.30)\n",
    "print(x_train.shape)\n",
    "print(x_test.shape)\n",
    "print(y_train.shape)\n",
    "print(y_test.shape)"
   ]
  },
  {
   "cell_type": "code",
   "execution_count": 83,
   "id": "4527779d",
   "metadata": {},
   "outputs": [],
   "source": [
    "from sklearn.metrics import confusion_matrix,classification_report,accuracy_score"
   ]
  },
  {
   "cell_type": "code",
   "execution_count": 53,
   "id": "2875bcdc",
   "metadata": {},
   "outputs": [],
   "source": [
    "def gen_metrics(ytest,ypred):\n",
    "    cm = confusion_matrix(ytest,ypred)\n",
    "    print('Confusion Matrix\\n',cm)\n",
    "    print('Classfication Report\\n',classification_report(ytest,ypred,zero_division=0))\n",
    "    \n",
    "def tt_score(model):\n",
    "    print('Training Score',model.score(x_train,y_train))\n",
    "    print('Testing Score',model.score(x_test,y_test))"
   ]
  },
  {
   "cell_type": "markdown",
   "id": "e6ec8262",
   "metadata": {},
   "source": [
    "### 1) LogisticReg"
   ]
  },
  {
   "cell_type": "code",
   "execution_count": 17,
   "id": "a5e7441c",
   "metadata": {},
   "outputs": [],
   "source": [
    "from sklearn.linear_model import LogisticRegression"
   ]
  },
  {
   "cell_type": "code",
   "execution_count": 23,
   "id": "8feb1e03",
   "metadata": {},
   "outputs": [
    {
     "data": {
      "text/html": [
       "<style>#sk-container-id-3 {color: black;background-color: white;}#sk-container-id-3 pre{padding: 0;}#sk-container-id-3 div.sk-toggleable {background-color: white;}#sk-container-id-3 label.sk-toggleable__label {cursor: pointer;display: block;width: 100%;margin-bottom: 0;padding: 0.3em;box-sizing: border-box;text-align: center;}#sk-container-id-3 label.sk-toggleable__label-arrow:before {content: \"▸\";float: left;margin-right: 0.25em;color: #696969;}#sk-container-id-3 label.sk-toggleable__label-arrow:hover:before {color: black;}#sk-container-id-3 div.sk-estimator:hover label.sk-toggleable__label-arrow:before {color: black;}#sk-container-id-3 div.sk-toggleable__content {max-height: 0;max-width: 0;overflow: hidden;text-align: left;background-color: #f0f8ff;}#sk-container-id-3 div.sk-toggleable__content pre {margin: 0.2em;color: black;border-radius: 0.25em;background-color: #f0f8ff;}#sk-container-id-3 input.sk-toggleable__control:checked~div.sk-toggleable__content {max-height: 200px;max-width: 100%;overflow: auto;}#sk-container-id-3 input.sk-toggleable__control:checked~label.sk-toggleable__label-arrow:before {content: \"▾\";}#sk-container-id-3 div.sk-estimator input.sk-toggleable__control:checked~label.sk-toggleable__label {background-color: #d4ebff;}#sk-container-id-3 div.sk-label input.sk-toggleable__control:checked~label.sk-toggleable__label {background-color: #d4ebff;}#sk-container-id-3 input.sk-hidden--visually {border: 0;clip: rect(1px 1px 1px 1px);clip: rect(1px, 1px, 1px, 1px);height: 1px;margin: -1px;overflow: hidden;padding: 0;position: absolute;width: 1px;}#sk-container-id-3 div.sk-estimator {font-family: monospace;background-color: #f0f8ff;border: 1px dotted black;border-radius: 0.25em;box-sizing: border-box;margin-bottom: 0.5em;}#sk-container-id-3 div.sk-estimator:hover {background-color: #d4ebff;}#sk-container-id-3 div.sk-parallel-item::after {content: \"\";width: 100%;border-bottom: 1px solid gray;flex-grow: 1;}#sk-container-id-3 div.sk-label:hover label.sk-toggleable__label {background-color: #d4ebff;}#sk-container-id-3 div.sk-serial::before {content: \"\";position: absolute;border-left: 1px solid gray;box-sizing: border-box;top: 0;bottom: 0;left: 50%;z-index: 0;}#sk-container-id-3 div.sk-serial {display: flex;flex-direction: column;align-items: center;background-color: white;padding-right: 0.2em;padding-left: 0.2em;position: relative;}#sk-container-id-3 div.sk-item {position: relative;z-index: 1;}#sk-container-id-3 div.sk-parallel {display: flex;align-items: stretch;justify-content: center;background-color: white;position: relative;}#sk-container-id-3 div.sk-item::before, #sk-container-id-3 div.sk-parallel-item::before {content: \"\";position: absolute;border-left: 1px solid gray;box-sizing: border-box;top: 0;bottom: 0;left: 50%;z-index: -1;}#sk-container-id-3 div.sk-parallel-item {display: flex;flex-direction: column;z-index: 1;position: relative;background-color: white;}#sk-container-id-3 div.sk-parallel-item:first-child::after {align-self: flex-end;width: 50%;}#sk-container-id-3 div.sk-parallel-item:last-child::after {align-self: flex-start;width: 50%;}#sk-container-id-3 div.sk-parallel-item:only-child::after {width: 0;}#sk-container-id-3 div.sk-dashed-wrapped {border: 1px dashed gray;margin: 0 0.4em 0.5em 0.4em;box-sizing: border-box;padding-bottom: 0.4em;background-color: white;}#sk-container-id-3 div.sk-label label {font-family: monospace;font-weight: bold;display: inline-block;line-height: 1.2em;}#sk-container-id-3 div.sk-label-container {text-align: center;}#sk-container-id-3 div.sk-container {/* jupyter's `normalize.less` sets `[hidden] { display: none; }` but bootstrap.min.css set `[hidden] { display: none !important; }` so we also need the `!important` here to be able to override the default hidden behavior on the sphinx rendered scikit-learn.org. See: https://github.com/scikit-learn/scikit-learn/issues/21755 */display: inline-block !important;position: relative;}#sk-container-id-3 div.sk-text-repr-fallback {display: none;}</style><div id=\"sk-container-id-3\" class=\"sk-top-container\"><div class=\"sk-text-repr-fallback\"><pre>LogisticRegression(max_iter=1000, solver=&#x27;liblinear&#x27;)</pre><b>In a Jupyter environment, please rerun this cell to show the HTML representation or trust the notebook. <br />On GitHub, the HTML representation is unable to render, please try loading this page with nbviewer.org.</b></div><div class=\"sk-container\" hidden><div class=\"sk-item\"><div class=\"sk-estimator sk-toggleable\"><input class=\"sk-toggleable__control sk-hidden--visually\" id=\"sk-estimator-id-3\" type=\"checkbox\" checked><label for=\"sk-estimator-id-3\" class=\"sk-toggleable__label sk-toggleable__label-arrow\">LogisticRegression</label><div class=\"sk-toggleable__content\"><pre>LogisticRegression(max_iter=1000, solver=&#x27;liblinear&#x27;)</pre></div></div></div></div></div>"
      ],
      "text/plain": [
       "LogisticRegression(max_iter=1000, solver='liblinear')"
      ]
     },
     "execution_count": 23,
     "metadata": {},
     "output_type": "execute_result"
    }
   ],
   "source": [
    "m1 = LogisticRegression(max_iter=1000,solver='liblinear')\n",
    "m1.fit(x_train,y_train)"
   ]
  },
  {
   "cell_type": "code",
   "execution_count": 25,
   "id": "cd24d4a9",
   "metadata": {},
   "outputs": [
    {
     "name": "stdout",
     "output_type": "stream",
     "text": [
      "Training Score 0.6041108132260947\n",
      "Testing Score 0.5583333333333333\n"
     ]
    }
   ],
   "source": [
    "tt_score(m1)"
   ]
  },
  {
   "cell_type": "code",
   "execution_count": 26,
   "id": "5399b26e",
   "metadata": {},
   "outputs": [
    {
     "name": "stdout",
     "output_type": "stream",
     "text": [
      "[6 5 6 5 5 5 6 5 5 6 6 5 6 7 6 6 6 6 5 5 5 6 6 5 6 6 5 5 5 5 5 6 6 5 6 5 5\n",
      " 6 6 6 6 6 6 6 6 5 5 5 5 6 5 6 6 5 5 5 6 5 5 5 5 6 6 5 6 5 5 5 6 6 5 5 6 5\n",
      " 5 6 5 5 5 5 5 6 5 6 6 6 5 5 6 6 5 5 6 6 6 6 6 5 6 6 7 6 5 6 6 6 6 6 5 5 5\n",
      " 5 5 6 6 6 5 5 5 6 5 6 6 5 5 5 6 6 5 7 5 6 5 6 6 5 6 6 6 5 6 5 5 6 6 5 6 5\n",
      " 5 6 5 5 5 6 5 7 6 5 5 5 6 7 5 6 5 5 5 5 5 6 5 5 5 5 5 5 5 6 6 7 5 7 6 6 5\n",
      " 6 5 5 5 6 6 5 5 6 5 6 5 6 5 5 5 5 5 6 6 6 5 5 5 5 6 6 6 6 6 6 5 5 5 6 6 6\n",
      " 5 5 5 5 5 5 6 6 5 5 5 5 6 5 5 6 6 5 7 5 5 6 6 6 6 5 5 6 5 5 5 5 6 5 6 6 6\n",
      " 6 5 6 5 6 6 5 6 5 5 6 6 5 6 5 5 5 5 5 6 6 5 5 5 6 6 5 5 5 6 6 6 5 5 6 6 6\n",
      " 5 5 6 5 6 6 5 5 6 5 5 6 5 7 5 6 7 5 5 6 6 6 6 5 6 5 5 5 5 6 6 5 5 5 5 6 6\n",
      " 5 5 6 6 6 6 6 5 5 6 5 6 5 6 5 5 5 6 6 6 6 5 6 5 5 5 6 6 6 5 5 5 5 6 5 6 5\n",
      " 6 5 6 5 6 6 7 6 5 5 5 5 5 5 5 5 6 5 6 5 6 5 6 5 6 5 5 6 6 5 5 6 5 6 5 6 6\n",
      " 5 5 6 5 6 5 5 5 5 6 5 5 5 5 5 5 7 6 5 6 6 5 5 5 5 7 5 5 6 5 5 5 5 5 5 6 6\n",
      " 6 6 5 5 7 5 5 5 6 5 6 5 6 5 5 6 5 6 6 5 5 6 5 5 5 6 5 5 6 5 5 5 5 5 5 6]\n"
     ]
    }
   ],
   "source": [
    "ypred_m1 = m1.predict(x_test)\n",
    "print(ypred_m1)"
   ]
  },
  {
   "cell_type": "code",
   "execution_count": 27,
   "id": "da6e6567",
   "metadata": {},
   "outputs": [
    {
     "name": "stdout",
     "output_type": "stream",
     "text": [
      "Confusion Matrix\n",
      " [[  0   0   2   0   0   0]\n",
      " [  0   0  13   2   0   0]\n",
      " [  0   0 151  39   0   0]\n",
      " [  0   0  85 112   7   0]\n",
      " [  0   0  11  46   5   0]\n",
      " [  0   0   1   4   2   0]]\n",
      "Classfication Report\n",
      "               precision    recall  f1-score   support\n",
      "\n",
      "           3       0.00      0.00      0.00         2\n",
      "           4       0.00      0.00      0.00        15\n",
      "           5       0.57      0.79      0.67       190\n",
      "           6       0.55      0.55      0.55       204\n",
      "           7       0.36      0.08      0.13        62\n",
      "           8       0.00      0.00      0.00         7\n",
      "\n",
      "    accuracy                           0.56       480\n",
      "   macro avg       0.25      0.24      0.22       480\n",
      "weighted avg       0.51      0.56      0.51       480\n",
      "\n"
     ]
    },
    {
     "name": "stderr",
     "output_type": "stream",
     "text": [
      "C:\\Users\\Dell\\anaconda3\\lib\\site-packages\\sklearn\\metrics\\_classification.py:1327: UndefinedMetricWarning: Precision and F-score are ill-defined and being set to 0.0 in labels with no predicted samples. Use `zero_division` parameter to control this behavior.\n",
      "  _warn_prf(average, modifier, msg_start, len(result))\n",
      "C:\\Users\\Dell\\anaconda3\\lib\\site-packages\\sklearn\\metrics\\_classification.py:1327: UndefinedMetricWarning: Precision and F-score are ill-defined and being set to 0.0 in labels with no predicted samples. Use `zero_division` parameter to control this behavior.\n",
      "  _warn_prf(average, modifier, msg_start, len(result))\n",
      "C:\\Users\\Dell\\anaconda3\\lib\\site-packages\\sklearn\\metrics\\_classification.py:1327: UndefinedMetricWarning: Precision and F-score are ill-defined and being set to 0.0 in labels with no predicted samples. Use `zero_division` parameter to control this behavior.\n",
      "  _warn_prf(average, modifier, msg_start, len(result))\n"
     ]
    }
   ],
   "source": [
    "gen_metrics(y_test,ypred_m1)"
   ]
  },
  {
   "cell_type": "markdown",
   "id": "4407a573",
   "metadata": {},
   "source": [
    "### 2) Decision Tree"
   ]
  },
  {
   "cell_type": "code",
   "execution_count": 28,
   "id": "bd31d292",
   "metadata": {},
   "outputs": [],
   "source": [
    "from sklearn.tree import DecisionTreeClassifier"
   ]
  },
  {
   "cell_type": "code",
   "execution_count": 34,
   "id": "84c15f8d",
   "metadata": {},
   "outputs": [
    {
     "data": {
      "text/html": [
       "<style>#sk-container-id-6 {color: black;background-color: white;}#sk-container-id-6 pre{padding: 0;}#sk-container-id-6 div.sk-toggleable {background-color: white;}#sk-container-id-6 label.sk-toggleable__label {cursor: pointer;display: block;width: 100%;margin-bottom: 0;padding: 0.3em;box-sizing: border-box;text-align: center;}#sk-container-id-6 label.sk-toggleable__label-arrow:before {content: \"▸\";float: left;margin-right: 0.25em;color: #696969;}#sk-container-id-6 label.sk-toggleable__label-arrow:hover:before {color: black;}#sk-container-id-6 div.sk-estimator:hover label.sk-toggleable__label-arrow:before {color: black;}#sk-container-id-6 div.sk-toggleable__content {max-height: 0;max-width: 0;overflow: hidden;text-align: left;background-color: #f0f8ff;}#sk-container-id-6 div.sk-toggleable__content pre {margin: 0.2em;color: black;border-radius: 0.25em;background-color: #f0f8ff;}#sk-container-id-6 input.sk-toggleable__control:checked~div.sk-toggleable__content {max-height: 200px;max-width: 100%;overflow: auto;}#sk-container-id-6 input.sk-toggleable__control:checked~label.sk-toggleable__label-arrow:before {content: \"▾\";}#sk-container-id-6 div.sk-estimator input.sk-toggleable__control:checked~label.sk-toggleable__label {background-color: #d4ebff;}#sk-container-id-6 div.sk-label input.sk-toggleable__control:checked~label.sk-toggleable__label {background-color: #d4ebff;}#sk-container-id-6 input.sk-hidden--visually {border: 0;clip: rect(1px 1px 1px 1px);clip: rect(1px, 1px, 1px, 1px);height: 1px;margin: -1px;overflow: hidden;padding: 0;position: absolute;width: 1px;}#sk-container-id-6 div.sk-estimator {font-family: monospace;background-color: #f0f8ff;border: 1px dotted black;border-radius: 0.25em;box-sizing: border-box;margin-bottom: 0.5em;}#sk-container-id-6 div.sk-estimator:hover {background-color: #d4ebff;}#sk-container-id-6 div.sk-parallel-item::after {content: \"\";width: 100%;border-bottom: 1px solid gray;flex-grow: 1;}#sk-container-id-6 div.sk-label:hover label.sk-toggleable__label {background-color: #d4ebff;}#sk-container-id-6 div.sk-serial::before {content: \"\";position: absolute;border-left: 1px solid gray;box-sizing: border-box;top: 0;bottom: 0;left: 50%;z-index: 0;}#sk-container-id-6 div.sk-serial {display: flex;flex-direction: column;align-items: center;background-color: white;padding-right: 0.2em;padding-left: 0.2em;position: relative;}#sk-container-id-6 div.sk-item {position: relative;z-index: 1;}#sk-container-id-6 div.sk-parallel {display: flex;align-items: stretch;justify-content: center;background-color: white;position: relative;}#sk-container-id-6 div.sk-item::before, #sk-container-id-6 div.sk-parallel-item::before {content: \"\";position: absolute;border-left: 1px solid gray;box-sizing: border-box;top: 0;bottom: 0;left: 50%;z-index: -1;}#sk-container-id-6 div.sk-parallel-item {display: flex;flex-direction: column;z-index: 1;position: relative;background-color: white;}#sk-container-id-6 div.sk-parallel-item:first-child::after {align-self: flex-end;width: 50%;}#sk-container-id-6 div.sk-parallel-item:last-child::after {align-self: flex-start;width: 50%;}#sk-container-id-6 div.sk-parallel-item:only-child::after {width: 0;}#sk-container-id-6 div.sk-dashed-wrapped {border: 1px dashed gray;margin: 0 0.4em 0.5em 0.4em;box-sizing: border-box;padding-bottom: 0.4em;background-color: white;}#sk-container-id-6 div.sk-label label {font-family: monospace;font-weight: bold;display: inline-block;line-height: 1.2em;}#sk-container-id-6 div.sk-label-container {text-align: center;}#sk-container-id-6 div.sk-container {/* jupyter's `normalize.less` sets `[hidden] { display: none; }` but bootstrap.min.css set `[hidden] { display: none !important; }` so we also need the `!important` here to be able to override the default hidden behavior on the sphinx rendered scikit-learn.org. See: https://github.com/scikit-learn/scikit-learn/issues/21755 */display: inline-block !important;position: relative;}#sk-container-id-6 div.sk-text-repr-fallback {display: none;}</style><div id=\"sk-container-id-6\" class=\"sk-top-container\"><div class=\"sk-text-repr-fallback\"><pre>DecisionTreeClassifier(criterion=&#x27;entropy&#x27;, max_depth=15)</pre><b>In a Jupyter environment, please rerun this cell to show the HTML representation or trust the notebook. <br />On GitHub, the HTML representation is unable to render, please try loading this page with nbviewer.org.</b></div><div class=\"sk-container\" hidden><div class=\"sk-item\"><div class=\"sk-estimator sk-toggleable\"><input class=\"sk-toggleable__control sk-hidden--visually\" id=\"sk-estimator-id-6\" type=\"checkbox\" checked><label for=\"sk-estimator-id-6\" class=\"sk-toggleable__label sk-toggleable__label-arrow\">DecisionTreeClassifier</label><div class=\"sk-toggleable__content\"><pre>DecisionTreeClassifier(criterion=&#x27;entropy&#x27;, max_depth=15)</pre></div></div></div></div></div>"
      ],
      "text/plain": [
       "DecisionTreeClassifier(criterion='entropy', max_depth=15)"
      ]
     },
     "execution_count": 34,
     "metadata": {},
     "output_type": "execute_result"
    }
   ],
   "source": [
    "m2 = DecisionTreeClassifier(criterion='entropy',max_depth=15)\n",
    "m2.fit(x_train,y_train)"
   ]
  },
  {
   "cell_type": "code",
   "execution_count": 35,
   "id": "255aad95",
   "metadata": {},
   "outputs": [
    {
     "name": "stdout",
     "output_type": "stream",
     "text": [
      "Training Score 0.9919571045576407\n",
      "Testing Score 0.6\n"
     ]
    }
   ],
   "source": [
    "tt_score(m2)"
   ]
  },
  {
   "cell_type": "code",
   "execution_count": 36,
   "id": "f9809e11",
   "metadata": {},
   "outputs": [
    {
     "name": "stdout",
     "output_type": "stream",
     "text": [
      "[5 5 7 5 6 4 6 6 4 5 6 5 6 6 6 7 7 7 5 5 6 6 5 6 5 6 5 5 6 5 5 6 6 6 7 7 5\n",
      " 7 5 6 7 6 5 6 7 5 5 6 5 5 6 5 6 5 6 6 6 5 5 5 5 7 6 5 5 6 6 6 6 5 5 5 5 3\n",
      " 5 6 5 6 5 5 5 6 6 6 7 7 5 6 7 6 5 6 7 5 6 7 7 5 6 6 5 6 6 7 6 6 6 6 5 5 6\n",
      " 6 6 6 6 6 5 6 5 6 5 5 6 5 5 5 6 6 5 7 6 7 6 5 7 5 6 6 6 5 6 4 5 6 7 5 6 7\n",
      " 6 6 5 5 5 5 6 7 7 6 5 5 5 5 5 6 7 5 5 6 5 5 6 5 4 6 6 4 6 5 7 5 5 7 6 6 6\n",
      " 5 5 6 4 6 5 6 5 6 5 6 5 6 5 5 5 5 3 7 7 7 6 5 5 5 5 6 7 7 6 5 5 6 5 6 7 6\n",
      " 3 6 5 6 5 6 6 6 6 5 7 6 6 6 5 5 6 4 7 5 5 6 6 7 6 6 5 6 5 5 6 4 7 7 6 5 5\n",
      " 6 5 5 5 6 6 5 5 6 5 5 6 4 6 5 5 5 5 5 5 5 5 5 5 6 6 5 6 5 5 4 5 5 5 7 6 7\n",
      " 6 5 6 5 7 7 5 5 7 5 5 7 5 7 5 5 8 6 5 6 6 6 7 5 6 6 6 3 6 7 7 5 5 5 5 6 5\n",
      " 6 4 6 6 7 7 6 5 5 5 5 6 5 6 5 6 5 5 6 6 6 5 6 5 5 5 5 6 6 6 6 5 6 7 5 6 6\n",
      " 6 5 6 5 7 6 5 6 5 5 5 4 5 6 5 5 5 6 7 6 5 4 6 5 7 5 5 7 6 5 6 7 6 5 5 6 6\n",
      " 5 6 5 4 6 6 5 6 5 6 5 5 5 5 5 5 6 6 6 6 5 5 5 4 5 6 5 6 6 5 5 6 5 5 5 5 6\n",
      " 5 6 5 5 7 6 6 5 6 5 6 5 5 5 5 6 5 6 5 5 6 5 5 5 6 5 6 5 6 5 6 5 6 6 6 5]\n"
     ]
    }
   ],
   "source": [
    "ypred_m2 = m2.predict(x_test)\n",
    "print(ypred_m2)"
   ]
  },
  {
   "cell_type": "code",
   "execution_count": 37,
   "id": "e59655b6",
   "metadata": {},
   "outputs": [
    {
     "name": "stdout",
     "output_type": "stream",
     "text": [
      "Confusion Matrix\n",
      " [[  0   0   1   1   0   0]\n",
      " [  2   1   8   4   0   0]\n",
      " [  1   7 142  37   3   0]\n",
      " [  1   6  57 117  22   1]\n",
      " [  0   1   6  27  28   0]\n",
      " [  0   0   1   2   4   0]]\n",
      "Classfication Report\n",
      "               precision    recall  f1-score   support\n",
      "\n",
      "           3       0.00      0.00      0.00         2\n",
      "           4       0.07      0.07      0.07        15\n",
      "           5       0.66      0.75      0.70       190\n",
      "           6       0.62      0.57      0.60       204\n",
      "           7       0.49      0.45      0.47        62\n",
      "           8       0.00      0.00      0.00         7\n",
      "\n",
      "    accuracy                           0.60       480\n",
      "   macro avg       0.31      0.31      0.31       480\n",
      "weighted avg       0.59      0.60      0.59       480\n",
      "\n"
     ]
    }
   ],
   "source": [
    "gen_metrics(y_test,ypred_m2)"
   ]
  },
  {
   "cell_type": "markdown",
   "id": "bbc736d5",
   "metadata": {},
   "source": [
    "### 3) KNN"
   ]
  },
  {
   "cell_type": "code",
   "execution_count": 38,
   "id": "2d74b7e0",
   "metadata": {},
   "outputs": [],
   "source": [
    "from sklearn.neighbors import KNeighborsClassifier"
   ]
  },
  {
   "cell_type": "code",
   "execution_count": 49,
   "id": "7d20b652",
   "metadata": {},
   "outputs": [
    {
     "data": {
      "text/html": [
       "<style>#sk-container-id-12 {color: black;background-color: white;}#sk-container-id-12 pre{padding: 0;}#sk-container-id-12 div.sk-toggleable {background-color: white;}#sk-container-id-12 label.sk-toggleable__label {cursor: pointer;display: block;width: 100%;margin-bottom: 0;padding: 0.3em;box-sizing: border-box;text-align: center;}#sk-container-id-12 label.sk-toggleable__label-arrow:before {content: \"▸\";float: left;margin-right: 0.25em;color: #696969;}#sk-container-id-12 label.sk-toggleable__label-arrow:hover:before {color: black;}#sk-container-id-12 div.sk-estimator:hover label.sk-toggleable__label-arrow:before {color: black;}#sk-container-id-12 div.sk-toggleable__content {max-height: 0;max-width: 0;overflow: hidden;text-align: left;background-color: #f0f8ff;}#sk-container-id-12 div.sk-toggleable__content pre {margin: 0.2em;color: black;border-radius: 0.25em;background-color: #f0f8ff;}#sk-container-id-12 input.sk-toggleable__control:checked~div.sk-toggleable__content {max-height: 200px;max-width: 100%;overflow: auto;}#sk-container-id-12 input.sk-toggleable__control:checked~label.sk-toggleable__label-arrow:before {content: \"▾\";}#sk-container-id-12 div.sk-estimator input.sk-toggleable__control:checked~label.sk-toggleable__label {background-color: #d4ebff;}#sk-container-id-12 div.sk-label input.sk-toggleable__control:checked~label.sk-toggleable__label {background-color: #d4ebff;}#sk-container-id-12 input.sk-hidden--visually {border: 0;clip: rect(1px 1px 1px 1px);clip: rect(1px, 1px, 1px, 1px);height: 1px;margin: -1px;overflow: hidden;padding: 0;position: absolute;width: 1px;}#sk-container-id-12 div.sk-estimator {font-family: monospace;background-color: #f0f8ff;border: 1px dotted black;border-radius: 0.25em;box-sizing: border-box;margin-bottom: 0.5em;}#sk-container-id-12 div.sk-estimator:hover {background-color: #d4ebff;}#sk-container-id-12 div.sk-parallel-item::after {content: \"\";width: 100%;border-bottom: 1px solid gray;flex-grow: 1;}#sk-container-id-12 div.sk-label:hover label.sk-toggleable__label {background-color: #d4ebff;}#sk-container-id-12 div.sk-serial::before {content: \"\";position: absolute;border-left: 1px solid gray;box-sizing: border-box;top: 0;bottom: 0;left: 50%;z-index: 0;}#sk-container-id-12 div.sk-serial {display: flex;flex-direction: column;align-items: center;background-color: white;padding-right: 0.2em;padding-left: 0.2em;position: relative;}#sk-container-id-12 div.sk-item {position: relative;z-index: 1;}#sk-container-id-12 div.sk-parallel {display: flex;align-items: stretch;justify-content: center;background-color: white;position: relative;}#sk-container-id-12 div.sk-item::before, #sk-container-id-12 div.sk-parallel-item::before {content: \"\";position: absolute;border-left: 1px solid gray;box-sizing: border-box;top: 0;bottom: 0;left: 50%;z-index: -1;}#sk-container-id-12 div.sk-parallel-item {display: flex;flex-direction: column;z-index: 1;position: relative;background-color: white;}#sk-container-id-12 div.sk-parallel-item:first-child::after {align-self: flex-end;width: 50%;}#sk-container-id-12 div.sk-parallel-item:last-child::after {align-self: flex-start;width: 50%;}#sk-container-id-12 div.sk-parallel-item:only-child::after {width: 0;}#sk-container-id-12 div.sk-dashed-wrapped {border: 1px dashed gray;margin: 0 0.4em 0.5em 0.4em;box-sizing: border-box;padding-bottom: 0.4em;background-color: white;}#sk-container-id-12 div.sk-label label {font-family: monospace;font-weight: bold;display: inline-block;line-height: 1.2em;}#sk-container-id-12 div.sk-label-container {text-align: center;}#sk-container-id-12 div.sk-container {/* jupyter's `normalize.less` sets `[hidden] { display: none; }` but bootstrap.min.css set `[hidden] { display: none !important; }` so we also need the `!important` here to be able to override the default hidden behavior on the sphinx rendered scikit-learn.org. See: https://github.com/scikit-learn/scikit-learn/issues/21755 */display: inline-block !important;position: relative;}#sk-container-id-12 div.sk-text-repr-fallback {display: none;}</style><div id=\"sk-container-id-12\" class=\"sk-top-container\"><div class=\"sk-text-repr-fallback\"><pre>KNeighborsClassifier(n_neighbors=17)</pre><b>In a Jupyter environment, please rerun this cell to show the HTML representation or trust the notebook. <br />On GitHub, the HTML representation is unable to render, please try loading this page with nbviewer.org.</b></div><div class=\"sk-container\" hidden><div class=\"sk-item\"><div class=\"sk-estimator sk-toggleable\"><input class=\"sk-toggleable__control sk-hidden--visually\" id=\"sk-estimator-id-12\" type=\"checkbox\" checked><label for=\"sk-estimator-id-12\" class=\"sk-toggleable__label sk-toggleable__label-arrow\">KNeighborsClassifier</label><div class=\"sk-toggleable__content\"><pre>KNeighborsClassifier(n_neighbors=17)</pre></div></div></div></div></div>"
      ],
      "text/plain": [
       "KNeighborsClassifier(n_neighbors=17)"
      ]
     },
     "execution_count": 49,
     "metadata": {},
     "output_type": "execute_result"
    }
   ],
   "source": [
    "m3 = KNeighborsClassifier(n_neighbors=17)\n",
    "m3.fit(x_train,y_train)"
   ]
  },
  {
   "cell_type": "code",
   "execution_count": 50,
   "id": "18e91bfc",
   "metadata": {},
   "outputs": [
    {
     "name": "stdout",
     "output_type": "stream",
     "text": [
      "Training Score 0.5862377122430742\n",
      "Testing Score 0.48541666666666666\n"
     ]
    }
   ],
   "source": [
    "tt_score(m3)"
   ]
  },
  {
   "cell_type": "code",
   "execution_count": 51,
   "id": "ca2d353a",
   "metadata": {},
   "outputs": [
    {
     "name": "stdout",
     "output_type": "stream",
     "text": [
      "[7 5 6 5 5 5 6 6 6 5 6 5 7 5 6 6 6 5 6 5 5 5 5 6 5 6 5 5 5 6 5 6 6 6 6 6 5\n",
      " 5 6 6 5 5 6 6 5 5 5 6 6 5 5 6 6 5 5 6 5 6 6 5 5 7 6 5 5 5 7 5 6 6 5 5 5 5\n",
      " 5 6 5 5 5 5 5 6 5 5 5 6 5 5 6 6 5 6 6 6 5 5 6 5 6 5 6 6 5 6 5 5 6 5 6 5 6\n",
      " 5 5 6 5 5 5 5 5 5 5 6 7 6 5 6 5 6 5 6 5 6 6 6 6 6 5 5 6 5 6 5 5 6 6 5 5 5\n",
      " 6 6 5 5 5 5 5 7 6 5 5 6 5 6 5 5 5 5 5 5 5 6 5 5 5 6 5 5 5 5 6 5 5 6 7 7 5\n",
      " 5 5 5 6 5 5 5 5 6 5 6 5 6 5 5 5 5 5 6 6 6 5 5 6 5 5 5 5 5 6 6 5 5 6 5 6 5\n",
      " 6 6 5 5 5 6 5 5 5 5 5 5 5 5 6 5 5 5 7 5 5 5 5 6 7 5 5 5 6 5 6 6 5 5 6 6 6\n",
      " 5 5 5 5 6 7 5 6 5 5 6 6 6 6 5 5 6 5 5 6 6 5 5 5 6 6 5 5 5 6 7 6 5 6 7 6 5\n",
      " 5 5 6 6 6 6 6 5 5 5 5 6 5 6 6 5 6 5 5 6 6 5 7 6 6 6 6 5 6 5 6 6 5 5 5 5 5\n",
      " 5 5 6 5 7 6 6 6 5 6 5 6 5 6 5 5 5 5 6 5 6 5 6 5 5 5 5 5 5 5 5 5 6 5 5 5 5\n",
      " 6 5 5 5 6 7 6 6 5 5 5 5 5 5 6 5 7 5 5 5 5 5 5 5 6 5 6 5 5 5 6 7 5 5 5 5 5\n",
      " 5 6 5 5 5 6 5 5 5 6 5 5 5 5 5 6 6 5 5 6 5 5 5 5 6 7 5 5 6 5 5 5 6 6 5 6 5\n",
      " 6 5 5 6 6 5 5 6 5 5 6 5 6 6 5 5 6 6 5 5 6 5 7 5 5 7 6 5 6 5 5 5 5 5 5 6]\n"
     ]
    }
   ],
   "source": [
    "ypred_m3 = m3.predict(x_test)\n",
    "print(ypred_m3)"
   ]
  },
  {
   "cell_type": "code",
   "execution_count": 54,
   "id": "3f247318",
   "metadata": {},
   "outputs": [
    {
     "name": "stdout",
     "output_type": "stream",
     "text": [
      "Confusion Matrix\n",
      " [[  0   0   1   1   0   0]\n",
      " [  0   0  11   4   0   0]\n",
      " [  0   0 138  49   3   0]\n",
      " [  0   0 112  85   7   0]\n",
      " [  0   0  25  27  10   0]\n",
      " [  0   0   2   4   1   0]]\n",
      "Classfication Report\n",
      "               precision    recall  f1-score   support\n",
      "\n",
      "           3       0.00      0.00      0.00         2\n",
      "           4       0.00      0.00      0.00        15\n",
      "           5       0.48      0.73      0.58       190\n",
      "           6       0.50      0.42      0.45       204\n",
      "           7       0.48      0.16      0.24        62\n",
      "           8       0.00      0.00      0.00         7\n",
      "\n",
      "    accuracy                           0.49       480\n",
      "   macro avg       0.24      0.22      0.21       480\n",
      "weighted avg       0.46      0.49      0.45       480\n",
      "\n"
     ]
    }
   ],
   "source": [
    "gen_metrics(y_test,ypred_m3)"
   ]
  },
  {
   "cell_type": "markdown",
   "id": "cee3c960",
   "metadata": {},
   "source": [
    "### 4) SVM"
   ]
  },
  {
   "cell_type": "code",
   "execution_count": 55,
   "id": "37fb7196",
   "metadata": {},
   "outputs": [],
   "source": [
    "from sklearn.svm import SVC"
   ]
  },
  {
   "cell_type": "code",
   "execution_count": 65,
   "id": "773801ce",
   "metadata": {},
   "outputs": [
    {
     "data": {
      "text/html": [
       "<style>#sk-container-id-17 {color: black;background-color: white;}#sk-container-id-17 pre{padding: 0;}#sk-container-id-17 div.sk-toggleable {background-color: white;}#sk-container-id-17 label.sk-toggleable__label {cursor: pointer;display: block;width: 100%;margin-bottom: 0;padding: 0.3em;box-sizing: border-box;text-align: center;}#sk-container-id-17 label.sk-toggleable__label-arrow:before {content: \"▸\";float: left;margin-right: 0.25em;color: #696969;}#sk-container-id-17 label.sk-toggleable__label-arrow:hover:before {color: black;}#sk-container-id-17 div.sk-estimator:hover label.sk-toggleable__label-arrow:before {color: black;}#sk-container-id-17 div.sk-toggleable__content {max-height: 0;max-width: 0;overflow: hidden;text-align: left;background-color: #f0f8ff;}#sk-container-id-17 div.sk-toggleable__content pre {margin: 0.2em;color: black;border-radius: 0.25em;background-color: #f0f8ff;}#sk-container-id-17 input.sk-toggleable__control:checked~div.sk-toggleable__content {max-height: 200px;max-width: 100%;overflow: auto;}#sk-container-id-17 input.sk-toggleable__control:checked~label.sk-toggleable__label-arrow:before {content: \"▾\";}#sk-container-id-17 div.sk-estimator input.sk-toggleable__control:checked~label.sk-toggleable__label {background-color: #d4ebff;}#sk-container-id-17 div.sk-label input.sk-toggleable__control:checked~label.sk-toggleable__label {background-color: #d4ebff;}#sk-container-id-17 input.sk-hidden--visually {border: 0;clip: rect(1px 1px 1px 1px);clip: rect(1px, 1px, 1px, 1px);height: 1px;margin: -1px;overflow: hidden;padding: 0;position: absolute;width: 1px;}#sk-container-id-17 div.sk-estimator {font-family: monospace;background-color: #f0f8ff;border: 1px dotted black;border-radius: 0.25em;box-sizing: border-box;margin-bottom: 0.5em;}#sk-container-id-17 div.sk-estimator:hover {background-color: #d4ebff;}#sk-container-id-17 div.sk-parallel-item::after {content: \"\";width: 100%;border-bottom: 1px solid gray;flex-grow: 1;}#sk-container-id-17 div.sk-label:hover label.sk-toggleable__label {background-color: #d4ebff;}#sk-container-id-17 div.sk-serial::before {content: \"\";position: absolute;border-left: 1px solid gray;box-sizing: border-box;top: 0;bottom: 0;left: 50%;z-index: 0;}#sk-container-id-17 div.sk-serial {display: flex;flex-direction: column;align-items: center;background-color: white;padding-right: 0.2em;padding-left: 0.2em;position: relative;}#sk-container-id-17 div.sk-item {position: relative;z-index: 1;}#sk-container-id-17 div.sk-parallel {display: flex;align-items: stretch;justify-content: center;background-color: white;position: relative;}#sk-container-id-17 div.sk-item::before, #sk-container-id-17 div.sk-parallel-item::before {content: \"\";position: absolute;border-left: 1px solid gray;box-sizing: border-box;top: 0;bottom: 0;left: 50%;z-index: -1;}#sk-container-id-17 div.sk-parallel-item {display: flex;flex-direction: column;z-index: 1;position: relative;background-color: white;}#sk-container-id-17 div.sk-parallel-item:first-child::after {align-self: flex-end;width: 50%;}#sk-container-id-17 div.sk-parallel-item:last-child::after {align-self: flex-start;width: 50%;}#sk-container-id-17 div.sk-parallel-item:only-child::after {width: 0;}#sk-container-id-17 div.sk-dashed-wrapped {border: 1px dashed gray;margin: 0 0.4em 0.5em 0.4em;box-sizing: border-box;padding-bottom: 0.4em;background-color: white;}#sk-container-id-17 div.sk-label label {font-family: monospace;font-weight: bold;display: inline-block;line-height: 1.2em;}#sk-container-id-17 div.sk-label-container {text-align: center;}#sk-container-id-17 div.sk-container {/* jupyter's `normalize.less` sets `[hidden] { display: none; }` but bootstrap.min.css set `[hidden] { display: none !important; }` so we also need the `!important` here to be able to override the default hidden behavior on the sphinx rendered scikit-learn.org. See: https://github.com/scikit-learn/scikit-learn/issues/21755 */display: inline-block !important;position: relative;}#sk-container-id-17 div.sk-text-repr-fallback {display: none;}</style><div id=\"sk-container-id-17\" class=\"sk-top-container\"><div class=\"sk-text-repr-fallback\"><pre>SVC(C=100, degree=4, kernel=&#x27;poly&#x27;)</pre><b>In a Jupyter environment, please rerun this cell to show the HTML representation or trust the notebook. <br />On GitHub, the HTML representation is unable to render, please try loading this page with nbviewer.org.</b></div><div class=\"sk-container\" hidden><div class=\"sk-item\"><div class=\"sk-estimator sk-toggleable\"><input class=\"sk-toggleable__control sk-hidden--visually\" id=\"sk-estimator-id-17\" type=\"checkbox\" checked><label for=\"sk-estimator-id-17\" class=\"sk-toggleable__label sk-toggleable__label-arrow\">SVC</label><div class=\"sk-toggleable__content\"><pre>SVC(C=100, degree=4, kernel=&#x27;poly&#x27;)</pre></div></div></div></div></div>"
      ],
      "text/plain": [
       "SVC(C=100, degree=4, kernel='poly')"
      ]
     },
     "execution_count": 65,
     "metadata": {},
     "output_type": "execute_result"
    }
   ],
   "source": [
    "m4 = SVC(kernel='poly',C=100,degree=4)\n",
    "m4.fit(x_train,y_train)"
   ]
  },
  {
   "cell_type": "code",
   "execution_count": 66,
   "id": "29227ceb",
   "metadata": {},
   "outputs": [
    {
     "name": "stdout",
     "output_type": "stream",
     "text": [
      "Training Score 0.579088471849866\n",
      "Testing Score 0.55\n"
     ]
    }
   ],
   "source": [
    "tt_score(m4)"
   ]
  },
  {
   "cell_type": "code",
   "execution_count": 67,
   "id": "754eafbc",
   "metadata": {},
   "outputs": [
    {
     "name": "stdout",
     "output_type": "stream",
     "text": [
      "[6 5 6 5 5 5 6 6 6 6 6 6 6 6 6 6 6 6 6 6 6 6 6 6 7 6 5 5 5 6 5 5 6 6 6 6 5\n",
      " 7 6 6 6 6 6 6 5 6 5 5 6 6 6 6 6 5 6 6 6 6 6 5 5 6 6 5 6 5 6 5 6 6 5 5 5 5\n",
      " 5 6 6 5 5 5 6 6 5 6 6 6 5 5 6 6 5 6 6 6 6 7 6 5 6 5 6 6 6 6 5 6 6 6 6 6 6\n",
      " 5 5 6 6 6 5 5 6 6 5 6 6 5 5 5 6 6 5 6 5 6 6 6 6 6 6 6 6 5 6 6 5 6 6 5 6 5\n",
      " 5 6 6 5 6 7 5 6 6 6 5 6 6 6 5 6 5 5 5 5 6 6 5 5 5 6 6 6 6 6 6 6 5 6 6 6 5\n",
      " 6 5 5 6 6 5 5 5 6 5 6 5 6 5 5 5 5 6 6 6 6 5 6 6 5 5 6 6 6 6 6 5 6 6 6 6 6\n",
      " 6 6 5 5 5 5 6 6 5 6 7 6 6 5 6 6 6 5 6 5 5 6 6 6 6 5 5 6 5 5 6 6 6 5 6 5 6\n",
      " 6 5 5 5 6 6 5 6 5 6 6 6 6 6 6 5 5 5 5 6 6 5 5 6 6 6 5 5 5 6 6 6 5 6 6 6 6\n",
      " 6 5 6 6 6 5 6 5 6 5 5 6 6 6 6 6 6 6 5 6 6 6 6 6 6 5 6 5 5 6 6 6 5 5 6 6 6\n",
      " 5 6 6 6 6 6 6 6 5 6 5 6 5 6 5 5 5 6 6 6 6 5 6 5 5 5 6 6 5 5 6 5 6 6 5 6 6\n",
      " 6 5 6 6 6 6 6 6 6 5 5 5 6 6 6 6 6 5 6 5 6 6 6 5 6 5 6 6 6 5 6 6 6 6 5 6 6\n",
      " 5 6 7 5 6 6 5 5 5 6 5 6 5 5 6 6 6 6 6 6 6 6 5 6 6 6 5 6 6 5 5 5 6 5 6 6 6\n",
      " 6 6 5 6 6 5 5 6 6 5 6 5 6 6 5 6 6 6 5 5 6 6 5 5 5 6 5 6 6 5 5 6 6 6 6 6]\n"
     ]
    }
   ],
   "source": [
    "ypred_m4 = m4.predict(x_test)\n",
    "print(ypred_m4)"
   ]
  },
  {
   "cell_type": "code",
   "execution_count": 68,
   "id": "b747687d",
   "metadata": {},
   "outputs": [
    {
     "name": "stdout",
     "output_type": "stream",
     "text": [
      "Confusion Matrix\n",
      " [[  0   0   1   1   0   0]\n",
      " [  0   0  11   4   0   0]\n",
      " [  0   0 106  84   0   0]\n",
      " [  0   0  46 155   3   0]\n",
      " [  0   0   6  53   3   0]\n",
      " [  0   0   1   6   0   0]]\n",
      "Classfication Report\n",
      "               precision    recall  f1-score   support\n",
      "\n",
      "           3       0.00      0.00      0.00         2\n",
      "           4       0.00      0.00      0.00        15\n",
      "           5       0.62      0.56      0.59       190\n",
      "           6       0.51      0.76      0.61       204\n",
      "           7       0.50      0.05      0.09        62\n",
      "           8       0.00      0.00      0.00         7\n",
      "\n",
      "    accuracy                           0.55       480\n",
      "   macro avg       0.27      0.23      0.21       480\n",
      "weighted avg       0.53      0.55      0.50       480\n",
      "\n"
     ]
    }
   ],
   "source": [
    "gen_metrics(y_test,ypred_m4)"
   ]
  },
  {
   "cell_type": "markdown",
   "id": "f66c5d8e",
   "metadata": {},
   "source": [
    "### 5) RandomForestClassifier"
   ]
  },
  {
   "cell_type": "code",
   "execution_count": 71,
   "id": "6340f41b",
   "metadata": {},
   "outputs": [],
   "source": [
    "from sklearn.ensemble import RandomForestClassifier"
   ]
  },
  {
   "cell_type": "code",
   "execution_count": 72,
   "id": "10f606c8",
   "metadata": {},
   "outputs": [
    {
     "data": {
      "text/html": [
       "<style>#sk-container-id-18 {color: black;background-color: white;}#sk-container-id-18 pre{padding: 0;}#sk-container-id-18 div.sk-toggleable {background-color: white;}#sk-container-id-18 label.sk-toggleable__label {cursor: pointer;display: block;width: 100%;margin-bottom: 0;padding: 0.3em;box-sizing: border-box;text-align: center;}#sk-container-id-18 label.sk-toggleable__label-arrow:before {content: \"▸\";float: left;margin-right: 0.25em;color: #696969;}#sk-container-id-18 label.sk-toggleable__label-arrow:hover:before {color: black;}#sk-container-id-18 div.sk-estimator:hover label.sk-toggleable__label-arrow:before {color: black;}#sk-container-id-18 div.sk-toggleable__content {max-height: 0;max-width: 0;overflow: hidden;text-align: left;background-color: #f0f8ff;}#sk-container-id-18 div.sk-toggleable__content pre {margin: 0.2em;color: black;border-radius: 0.25em;background-color: #f0f8ff;}#sk-container-id-18 input.sk-toggleable__control:checked~div.sk-toggleable__content {max-height: 200px;max-width: 100%;overflow: auto;}#sk-container-id-18 input.sk-toggleable__control:checked~label.sk-toggleable__label-arrow:before {content: \"▾\";}#sk-container-id-18 div.sk-estimator input.sk-toggleable__control:checked~label.sk-toggleable__label {background-color: #d4ebff;}#sk-container-id-18 div.sk-label input.sk-toggleable__control:checked~label.sk-toggleable__label {background-color: #d4ebff;}#sk-container-id-18 input.sk-hidden--visually {border: 0;clip: rect(1px 1px 1px 1px);clip: rect(1px, 1px, 1px, 1px);height: 1px;margin: -1px;overflow: hidden;padding: 0;position: absolute;width: 1px;}#sk-container-id-18 div.sk-estimator {font-family: monospace;background-color: #f0f8ff;border: 1px dotted black;border-radius: 0.25em;box-sizing: border-box;margin-bottom: 0.5em;}#sk-container-id-18 div.sk-estimator:hover {background-color: #d4ebff;}#sk-container-id-18 div.sk-parallel-item::after {content: \"\";width: 100%;border-bottom: 1px solid gray;flex-grow: 1;}#sk-container-id-18 div.sk-label:hover label.sk-toggleable__label {background-color: #d4ebff;}#sk-container-id-18 div.sk-serial::before {content: \"\";position: absolute;border-left: 1px solid gray;box-sizing: border-box;top: 0;bottom: 0;left: 50%;z-index: 0;}#sk-container-id-18 div.sk-serial {display: flex;flex-direction: column;align-items: center;background-color: white;padding-right: 0.2em;padding-left: 0.2em;position: relative;}#sk-container-id-18 div.sk-item {position: relative;z-index: 1;}#sk-container-id-18 div.sk-parallel {display: flex;align-items: stretch;justify-content: center;background-color: white;position: relative;}#sk-container-id-18 div.sk-item::before, #sk-container-id-18 div.sk-parallel-item::before {content: \"\";position: absolute;border-left: 1px solid gray;box-sizing: border-box;top: 0;bottom: 0;left: 50%;z-index: -1;}#sk-container-id-18 div.sk-parallel-item {display: flex;flex-direction: column;z-index: 1;position: relative;background-color: white;}#sk-container-id-18 div.sk-parallel-item:first-child::after {align-self: flex-end;width: 50%;}#sk-container-id-18 div.sk-parallel-item:last-child::after {align-self: flex-start;width: 50%;}#sk-container-id-18 div.sk-parallel-item:only-child::after {width: 0;}#sk-container-id-18 div.sk-dashed-wrapped {border: 1px dashed gray;margin: 0 0.4em 0.5em 0.4em;box-sizing: border-box;padding-bottom: 0.4em;background-color: white;}#sk-container-id-18 div.sk-label label {font-family: monospace;font-weight: bold;display: inline-block;line-height: 1.2em;}#sk-container-id-18 div.sk-label-container {text-align: center;}#sk-container-id-18 div.sk-container {/* jupyter's `normalize.less` sets `[hidden] { display: none; }` but bootstrap.min.css set `[hidden] { display: none !important; }` so we also need the `!important` here to be able to override the default hidden behavior on the sphinx rendered scikit-learn.org. See: https://github.com/scikit-learn/scikit-learn/issues/21755 */display: inline-block !important;position: relative;}#sk-container-id-18 div.sk-text-repr-fallback {display: none;}</style><div id=\"sk-container-id-18\" class=\"sk-top-container\"><div class=\"sk-text-repr-fallback\"><pre>RandomForestClassifier(max_depth=9, n_estimators=80)</pre><b>In a Jupyter environment, please rerun this cell to show the HTML representation or trust the notebook. <br />On GitHub, the HTML representation is unable to render, please try loading this page with nbviewer.org.</b></div><div class=\"sk-container\" hidden><div class=\"sk-item\"><div class=\"sk-estimator sk-toggleable\"><input class=\"sk-toggleable__control sk-hidden--visually\" id=\"sk-estimator-id-18\" type=\"checkbox\" checked><label for=\"sk-estimator-id-18\" class=\"sk-toggleable__label sk-toggleable__label-arrow\">RandomForestClassifier</label><div class=\"sk-toggleable__content\"><pre>RandomForestClassifier(max_depth=9, n_estimators=80)</pre></div></div></div></div></div>"
      ],
      "text/plain": [
       "RandomForestClassifier(max_depth=9, n_estimators=80)"
      ]
     },
     "execution_count": 72,
     "metadata": {},
     "output_type": "execute_result"
    }
   ],
   "source": [
    "m5 = RandomForestClassifier(n_estimators=80,criterion='gini',max_depth=9)\n",
    "m5.fit(x_train,y_train)"
   ]
  },
  {
   "cell_type": "code",
   "execution_count": 73,
   "id": "a2a2cbaa",
   "metadata": {},
   "outputs": [
    {
     "name": "stdout",
     "output_type": "stream",
     "text": [
      "Training Score 0.9186773905272565\n",
      "Testing Score 0.6520833333333333\n"
     ]
    }
   ],
   "source": [
    "tt_score(m5)"
   ]
  },
  {
   "cell_type": "code",
   "execution_count": 74,
   "id": "d76d8718",
   "metadata": {},
   "outputs": [
    {
     "name": "stdout",
     "output_type": "stream",
     "text": [
      "[6 5 7 5 6 5 6 5 5 6 7 5 7 6 6 6 6 6 5 5 6 6 6 6 7 6 5 5 6 6 5 6 6 5 6 6 5\n",
      " 7 6 6 6 6 6 6 7 6 5 6 5 5 6 6 6 5 6 6 6 5 6 5 5 7 6 5 6 5 6 5 5 5 5 5 5 5\n",
      " 5 6 6 6 6 5 5 6 6 6 6 7 5 5 6 6 5 6 7 5 6 6 6 5 6 6 6 6 5 7 6 6 6 7 6 5 6\n",
      " 5 5 6 6 7 5 5 5 6 5 6 6 5 5 6 6 6 5 7 6 6 6 7 6 5 6 6 6 5 5 5 5 6 7 5 6 7\n",
      " 6 6 5 5 5 7 5 7 7 5 5 6 5 6 5 6 5 5 5 5 5 5 5 5 5 5 5 6 6 5 7 7 5 6 6 6 5\n",
      " 5 5 5 5 6 5 6 5 6 5 6 5 6 5 5 5 5 6 6 6 6 6 5 6 5 5 7 6 6 6 5 5 6 5 6 7 6\n",
      " 6 5 5 5 5 5 6 6 5 5 7 5 7 6 5 5 5 5 7 5 5 6 6 6 6 5 5 6 5 5 6 5 6 5 6 5 5\n",
      " 7 5 5 5 6 6 5 6 5 5 6 6 6 6 5 5 5 5 5 6 6 5 5 6 6 6 6 5 5 5 6 6 5 5 7 6 6\n",
      " 6 5 6 5 7 7 5 5 6 5 5 6 5 6 5 5 7 5 5 6 6 6 7 5 6 5 6 5 6 7 7 5 5 5 5 6 6\n",
      " 5 5 6 6 6 6 7 5 5 5 5 6 6 6 5 5 5 5 6 6 6 5 6 5 5 5 6 6 6 5 5 5 6 6 5 6 5\n",
      " 6 5 6 5 6 7 6 6 6 5 5 5 5 5 6 5 5 5 6 6 5 6 6 5 6 5 5 6 7 5 5 7 5 6 5 6 6\n",
      " 5 6 7 5 6 5 5 6 5 6 5 5 5 5 5 5 7 6 6 6 5 5 5 6 5 7 5 5 7 5 5 5 5 6 6 5 6\n",
      " 6 7 5 5 7 5 5 5 6 5 6 5 5 5 5 6 5 6 5 5 6 6 5 5 5 6 5 5 6 5 5 5 6 6 5 5]\n"
     ]
    }
   ],
   "source": [
    "ypred_m5 = m5.predict(x_test)\n",
    "print(ypred_m5)"
   ]
  },
  {
   "cell_type": "code",
   "execution_count": 77,
   "id": "3c20586f",
   "metadata": {},
   "outputs": [
    {
     "name": "stdout",
     "output_type": "stream",
     "text": [
      "Counter({5: 234, 6: 202, 7: 44})\n"
     ]
    }
   ],
   "source": [
    "from collections import Counter\n",
    "c1 = Counter(ypred_m5)\n",
    "print(c1)"
   ]
  },
  {
   "cell_type": "code",
   "execution_count": 75,
   "id": "ec98fbf6",
   "metadata": {},
   "outputs": [
    {
     "name": "stdout",
     "output_type": "stream",
     "text": [
      "Confusion Matrix\n",
      " [[  0   0   1   1   0   0]\n",
      " [  0   0  10   5   0   0]\n",
      " [  0   0 153  36   1   0]\n",
      " [  0   0  63 131  10   0]\n",
      " [  0   0   7  26  29   0]\n",
      " [  0   0   0   3   4   0]]\n",
      "Classfication Report\n",
      "               precision    recall  f1-score   support\n",
      "\n",
      "           3       0.00      0.00      0.00         2\n",
      "           4       0.00      0.00      0.00        15\n",
      "           5       0.65      0.81      0.72       190\n",
      "           6       0.65      0.64      0.65       204\n",
      "           7       0.66      0.47      0.55        62\n",
      "           8       0.00      0.00      0.00         7\n",
      "\n",
      "    accuracy                           0.65       480\n",
      "   macro avg       0.33      0.32      0.32       480\n",
      "weighted avg       0.62      0.65      0.63       480\n",
      "\n"
     ]
    }
   ],
   "source": [
    "gen_metrics(y_test,ypred_m5)"
   ]
  },
  {
   "cell_type": "markdown",
   "id": "349249c8",
   "metadata": {},
   "source": [
    "Fucntion to handle any model"
   ]
  },
  {
   "cell_type": "code",
   "execution_count": 78,
   "id": "9921192c",
   "metadata": {},
   "outputs": [],
   "source": [
    "def model_perf(model,x_train,x_test,y_train,y_test):\n",
    "    \n",
    "# train_score\n",
    "# test_score\n",
    "# ypred\n",
    "# cm\n",
    "# cls_report"
   ]
  },
  {
   "cell_type": "code",
   "execution_count": 85,
   "id": "c19c5a2a",
   "metadata": {},
   "outputs": [],
   "source": [
    "def model_perf(model, x_train,x_test,y_test, y_train):\n",
    "    model.fit(x_train,y_train)\n",
    "    ypred = model.predict(x_test)\n",
    "    print(ypred)\n",
    "    cm = confusion_matrix(y_test,ypred)\n",
    "    print('confusion matrix\\n',cm)\n",
    "    print('Classification report\\n',classification_report(y_test,ypred,zero_division=0))\n",
    "    print('Acc score',accuracy_score(y_test,ypred))\n",
    "    \n",
    "    print('Training score',model.score(x_train,y_train))\n",
    "    print('Testing score',model.score(x_test,y_test))\n"
   ]
  },
  {
   "cell_type": "code",
   "execution_count": 86,
   "id": "6e9c609d",
   "metadata": {},
   "outputs": [
    {
     "name": "stdout",
     "output_type": "stream",
     "text": [
      "[6 5 6 5 5 5 6 5 5 6 6 5 6 7 6 6 6 6 5 5 5 6 6 5 6 6 5 5 5 5 5 6 6 5 6 5 5\n",
      " 6 6 6 6 6 6 6 6 5 5 5 5 6 5 6 6 5 5 5 6 5 5 5 5 6 6 5 6 5 5 5 6 6 5 5 6 5\n",
      " 5 6 5 5 5 5 5 6 5 6 6 6 5 5 6 6 5 5 6 6 6 6 6 5 6 6 7 6 5 6 6 6 6 6 5 5 5\n",
      " 5 5 6 6 6 5 5 5 6 5 6 6 5 5 5 6 6 5 7 5 6 5 6 6 5 6 6 6 5 6 5 5 6 6 5 6 5\n",
      " 5 6 5 5 5 6 5 7 6 5 5 5 6 7 5 6 5 5 5 5 5 6 5 5 5 5 5 5 5 6 6 7 5 7 6 6 5\n",
      " 6 5 5 5 6 6 5 5 6 5 6 5 6 5 5 5 5 5 6 6 6 5 5 5 5 6 6 6 6 6 6 5 5 5 6 6 6\n",
      " 5 5 5 5 5 5 6 6 5 5 5 5 6 5 5 6 6 5 7 5 5 6 6 6 6 5 5 6 5 5 5 5 6 5 6 6 6\n",
      " 6 5 6 5 6 6 5 6 5 5 6 6 5 6 5 5 5 5 5 6 6 5 5 5 6 6 5 5 5 6 6 6 5 5 6 6 6\n",
      " 5 5 6 5 6 6 5 5 6 5 5 6 5 7 5 6 7 5 5 6 6 6 6 5 6 5 5 5 5 6 6 5 5 5 5 6 6\n",
      " 5 5 6 6 6 6 6 5 5 6 5 6 5 6 5 5 5 6 6 6 6 5 6 5 5 5 6 6 6 5 5 5 5 6 5 6 5\n",
      " 6 5 6 5 6 6 7 6 5 5 5 5 5 5 5 5 6 5 6 5 6 5 6 5 6 5 5 6 6 5 5 6 5 6 5 6 6\n",
      " 5 5 6 5 6 5 5 5 5 6 5 5 5 5 5 5 7 6 5 6 6 5 5 5 5 7 5 5 6 5 5 5 5 5 5 6 6\n",
      " 6 6 5 5 7 5 5 5 6 5 6 5 6 5 5 6 5 6 6 5 5 6 5 5 5 6 5 5 6 5 5 5 5 5 5 6]\n",
      "confusion matrix\n",
      " [[  0   0   2   0   0   0]\n",
      " [  0   0  13   2   0   0]\n",
      " [  0   0 151  39   0   0]\n",
      " [  0   0  85 112   7   0]\n",
      " [  0   0  11  46   5   0]\n",
      " [  0   0   1   4   2   0]]\n",
      "Classification report\n",
      "               precision    recall  f1-score   support\n",
      "\n",
      "           3       0.00      0.00      0.00         2\n",
      "           4       0.00      0.00      0.00        15\n",
      "           5       0.57      0.79      0.67       190\n",
      "           6       0.55      0.55      0.55       204\n",
      "           7       0.36      0.08      0.13        62\n",
      "           8       0.00      0.00      0.00         7\n",
      "\n",
      "    accuracy                           0.56       480\n",
      "   macro avg       0.25      0.24      0.22       480\n",
      "weighted avg       0.51      0.56      0.51       480\n",
      "\n",
      "Acc score 0.5583333333333333\n",
      "Training score 0.6041108132260947\n",
      "Testing score 0.5583333333333333\n"
     ]
    }
   ],
   "source": [
    "w1 = LogisticRegression(max_iter=1000,solver='liblinear')\n",
    "model_perf(w1, x_train,x_test,y_test, y_train)"
   ]
  },
  {
   "cell_type": "code",
   "execution_count": 87,
   "id": "059178ad",
   "metadata": {},
   "outputs": [
    {
     "name": "stdout",
     "output_type": "stream",
     "text": [
      "[6 5 5 5 6 6 7 5 6 7 7 7 7 6 6 5 6 5 5 5 5 6 5 5 5 6 5 5 5 5 5 6 6 5 5 7 5\n",
      " 6 6 5 6 5 6 6 5 6 5 5 5 5 5 5 6 5 6 6 6 6 5 5 6 6 6 5 5 4 6 5 6 5 5 5 5 6\n",
      " 5 6 6 5 5 6 6 6 4 5 7 7 5 5 6 6 5 6 7 7 6 6 6 5 6 6 6 6 5 7 6 6 7 7 5 5 5\n",
      " 5 5 6 5 7 5 5 5 5 6 6 6 5 5 6 5 6 5 7 6 7 7 6 7 5 6 5 6 5 5 5 5 5 6 5 6 6\n",
      " 6 6 5 6 5 6 5 7 7 6 5 5 5 7 5 5 5 5 6 5 5 6 6 6 5 5 5 5 6 5 7 7 4 7 6 6 6\n",
      " 5 5 5 5 6 5 6 5 6 5 6 5 6 5 5 5 5 6 7 6 6 6 5 5 5 6 7 7 7 6 5 5 6 5 4 5 6\n",
      " 4 6 5 5 5 5 5 6 4 5 6 5 6 5 5 5 5 5 7 5 5 5 5 7 6 5 5 6 5 6 5 5 5 4 5 6 5\n",
      " 6 5 5 5 6 7 5 6 6 5 5 6 6 7 6 5 5 5 5 5 7 5 5 5 6 6 5 6 5 7 4 5 5 5 7 6 7\n",
      " 4 6 6 5 6 5 5 5 5 5 5 6 5 6 5 5 6 5 5 6 6 6 6 6 5 5 6 5 6 7 7 5 5 5 5 6 5\n",
      " 5 5 6 6 7 7 6 5 5 5 5 5 5 6 5 5 6 6 6 6 6 6 6 6 5 5 6 5 6 5 6 5 5 6 5 6 6\n",
      " 6 5 5 5 6 6 6 6 6 5 5 5 5 5 5 6 5 6 6 6 6 4 6 5 6 5 5 7 6 5 5 7 4 6 5 5 6\n",
      " 5 6 6 5 6 5 5 6 5 5 5 5 5 5 5 5 6 6 6 6 6 5 5 5 5 7 5 5 6 5 5 5 5 6 6 5 6\n",
      " 6 6 5 5 7 5 5 5 5 5 6 5 5 5 6 7 5 6 5 5 5 6 5 5 6 5 5 5 4 5 6 6 6 6 5 5]\n",
      "confusion matrix\n",
      " [[  0   0   1   1   0   0]\n",
      " [  0   4   7   4   0   0]\n",
      " [  0   4 142  41   3   0]\n",
      " [  0   3  84  97  20   0]\n",
      " [  0   1  13  28  20   0]\n",
      " [  0   0   1   4   2   0]]\n",
      "Classification report\n",
      "               precision    recall  f1-score   support\n",
      "\n",
      "           3       0.00      0.00      0.00         2\n",
      "           4       0.33      0.27      0.30        15\n",
      "           5       0.57      0.75      0.65       190\n",
      "           6       0.55      0.48      0.51       204\n",
      "           7       0.44      0.32      0.37        62\n",
      "           8       0.00      0.00      0.00         7\n",
      "\n",
      "    accuracy                           0.55       480\n",
      "   macro avg       0.32      0.30      0.31       480\n",
      "weighted avg       0.53      0.55      0.53       480\n",
      "\n",
      "Acc score 0.5479166666666667\n",
      "Training score 0.7971403038427167\n",
      "Testing score 0.5479166666666667\n"
     ]
    }
   ],
   "source": [
    "w2 = DecisionTreeClassifier(criterion='gini',max_depth=9,min_samples_split=17)\n",
    "model_perf(w2, x_train,x_test,y_test, y_train)"
   ]
  },
  {
   "cell_type": "code",
   "execution_count": null,
   "id": "78e19f89",
   "metadata": {},
   "outputs": [],
   "source": []
  }
 ],
 "metadata": {
  "kernelspec": {
   "display_name": "Python 3",
   "language": "python",
   "name": "python3"
  },
  "language_info": {
   "codemirror_mode": {
    "name": "ipython",
    "version": 3
   },
   "file_extension": ".py",
   "mimetype": "text/x-python",
   "name": "python",
   "nbconvert_exporter": "python",
   "pygments_lexer": "ipython3",
   "version": "3.8.8"
  }
 },
 "nbformat": 4,
 "nbformat_minor": 5
}
